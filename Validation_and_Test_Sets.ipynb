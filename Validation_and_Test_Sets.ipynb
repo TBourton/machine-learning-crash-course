{
 "cells": [
  {
   "cell_type": "markdown",
   "metadata": {
    "id": "4f3CKqFUqL2-"
   },
   "source": [
    "# Validation Sets and Test Sets\n",
    "\n",
    "The previous Colab exercises evaluated the trained model against the training set, which does not provide a strong signal about the quality of your model. In this Colab, you'll experiment with validation sets and test sets.\n",
    "\n",
    "\n",
    "\n",
    "\n"
   ]
  },
  {
   "cell_type": "markdown",
   "metadata": {},
   "source": [
    "https://colab.research.google.com/github/google/eng-edu/blob/main/ml/cc/exercises/validation_and_test_sets.ipynb?utm_source=mlcc&utm_campaign=colab-external&utm_medium=referral&utm_content=validation_tf2-colab&hl=en#scrollTo=4f3CKqFUqL2-\n",
    "\n",
    "Modified for my own learning"
   ]
  },
  {
   "cell_type": "markdown",
   "metadata": {
    "id": "3spZH_kNkWWX"
   },
   "source": [
    "## Learning objectives\n",
    "\n",
    "After doing this Colab, you'll know how to do the following:\n",
    "\n",
    "  * Split a [training set](https://developers.google.com/machine-learning/glossary/#training_set) into a smaller training set and a [validation set](https://developers.google.com/machine-learning/glossary/#validation_set).\n",
    "  * Analyze deltas between training set and validation set results.\n",
    "  * Test the trained model with a [test set](https://developers.google.com/machine-learning/glossary/#test_set) to determine whether your trained model is [overfitting](https://developers.google.com/machine-learning/glossary/#overfitting).\n",
    "  * Detect and fix a common training problem."
   ]
  },
  {
   "cell_type": "markdown",
   "metadata": {
    "id": "gV82DJO3kWpk"
   },
   "source": [
    "## The dataset\n",
    "\n",
    "As in the previous exercise, this exercise uses the [California Housing dataset](https://developers.google.com/machine-learning/crash-course/california-housing-data-description) to predict the `median_house_value` at the city block level.  Like many \"famous\" datasets, the California Housing Dataset actually consists of two separate datasets, each living in separate .csv files:\n",
    "\n",
    "* The training set is in `california_housing_train.csv`.\n",
    "* The test set is in `california_housing_test.csv`.\n",
    "\n",
    "You'll create the validation set by dividing the downloaded training set into two parts:\n",
    "\n",
    "* a smaller training set  \n",
    "* a validation set"
   ]
  },
  {
   "cell_type": "code",
   "execution_count": 17,
   "metadata": {
    "cellView": "form",
    "id": "9D8GgUovHbG0"
   },
   "outputs": [
    {
     "data": {
      "text/plain": [
       "'2.4.1'"
      ]
     },
     "execution_count": 17,
     "metadata": {},
     "output_type": "execute_result"
    }
   ],
   "source": [
    "import numpy as np\n",
    "import pandas as pd\n",
    "import tensorflow as tf\n",
    "import tqdm.notebook as tqdm\n",
    "from matplotlib import pyplot as plt\n",
    "\n",
    "pd.options.display.max_rows = 10\n",
    "pd.options.display.float_format = \"{:.1f}\".format\n",
    "\n",
    "tf.__version__"
   ]
  },
  {
   "cell_type": "markdown",
   "metadata": {
    "id": "xjvrrClQeAJu"
   },
   "source": [
    "## Load the datasets from the internet\n",
    "\n",
    "The following code cell loads the separate .csv files and creates the following two pandas DataFrames:\n",
    "\n",
    "* `train_df`, which contains the training set.\n",
    "* `test_df`, which contains the test set.\n",
    "\n"
   ]
  },
  {
   "cell_type": "code",
   "execution_count": 2,
   "metadata": {
    "id": "zUnTc_wfd_o3"
   },
   "outputs": [],
   "source": [
    "train_df = pd.read_csv(\"https://download.mlcc.google.com/mledu-datasets/california_housing_train.csv\")\n",
    "test_df = pd.read_csv(\"https://download.mlcc.google.com/mledu-datasets/california_housing_test.csv\")"
   ]
  },
  {
   "cell_type": "markdown",
   "metadata": {
    "id": "P_KBdj2M_yjM"
   },
   "source": [
    "## Scale the label values\n",
    "\n",
    "The following code cell scales the `median_house_value`. \n",
    "See the previous Colab exercise for details."
   ]
  },
  {
   "cell_type": "code",
   "execution_count": 3,
   "metadata": {
    "id": "3hc7QQhaAFXD"
   },
   "outputs": [],
   "source": [
    "scale_factor = 1000.0\n",
    "\n",
    "# Scale the training set's label.\n",
    "train_df[\"median_house_value\"] /= scale_factor \n",
    "\n",
    "# Scale the test set's label\n",
    "test_df[\"median_house_value\"] /= scale_factor"
   ]
  },
  {
   "cell_type": "markdown",
   "metadata": {
    "id": "FhessIIV8VPc"
   },
   "source": [
    "## Load the functions that build and train a model\n",
    "\n",
    "The following code cell defines two functions:\n",
    "\n",
    "  * `build_model`, which defines the model's topography.\n",
    "  * `train_model`, which will ultimately train the model, outputting not only the loss value for the training set but also the loss value for the validation set. \n",
    "\n",
    "Since you don't need to understand model building code right now, we've hidden this code cell. As always, you must run hidden code cells."
   ]
  },
  {
   "cell_type": "code",
   "execution_count": 7,
   "metadata": {
    "cellView": "form",
    "id": "bvonhK857msj"
   },
   "outputs": [],
   "source": [
    "def build_model(my_learning_rate):\n",
    "    \"\"\"Create and compile a simple linear regression model.\"\"\"\n",
    "    model = tf.keras.models.Sequential()\n",
    "\n",
    "    # Add one linear layer to the model to yield a simple linear regressor.\n",
    "    model.add(tf.keras.layers.Dense(units=1, input_shape=(1,)))\n",
    "\n",
    "    # Configure training to minimize the model's mean squared error. \n",
    "    model.compile(optimizer=tf.keras.optimizers.RMSprop(lr=my_learning_rate),\n",
    "                  loss=\"mean_squared_error\",\n",
    "                  metrics=[tf.keras.metrics.RootMeanSquaredError()])\n",
    "\n",
    "    return model               \n",
    "\n",
    "\n",
    "def train_model(model, df, feature, label, my_epochs, my_batch_size=None, my_validation_split=0.1, verbose=1):\n",
    "    \"\"\"Feed a dataset into the model in order to train it.\"\"\"\n",
    "    history = model.fit(x=df[feature], y=df[label], batch_size=my_batch_size,\n",
    "                        epochs=my_epochs, validation_split=my_validation_split, verbose=verbose)\n",
    "\n",
    "    # Gather the model's trained weight and bias.\n",
    "    trained_weight, trained_bias = model.get_weights()\n",
    "\n",
    "    epochs = history.epoch\n",
    "    \n",
    "    hist = pd.DataFrame(history.history)\n",
    "    rmse = hist[\"root_mean_squared_error\"]\n",
    "\n",
    "    return epochs, rmse, history.history"
   ]
  },
  {
   "cell_type": "markdown",
   "metadata": {
    "id": "8gRu4Ri0D8tH"
   },
   "source": [
    "## Define plotting functions\n",
    "\n",
    "The `plot_the_loss_curve` function plots loss vs. epochs for both the training set and the validation set."
   ]
  },
  {
   "cell_type": "code",
   "execution_count": 5,
   "metadata": {
    "cellView": "form",
    "id": "QA7hsqPZDvVM"
   },
   "outputs": [],
   "source": [
    "def plot_the_loss_curve(epochs, mae_training, mae_validation):\n",
    "    \"\"\"Plot a curve of loss vs. epoch.\"\"\"\n",
    "\n",
    "    plt.figure()\n",
    "    plt.xlabel(\"Epoch\")\n",
    "    plt.ylabel(\"Root Mean Squared Error\")\n",
    "\n",
    "    plt.plot(epochs[1:], mae_training[1:], label=\"Training Loss\")\n",
    "    plt.plot(epochs[1:], mae_validation[1:], label=\"Validation Loss\")\n",
    "    plt.legend()\n",
    "  \n",
    "    # We're not going to plot the first epoch, since the loss on the first epoch\n",
    "    # is often substantially greater than the loss for other epochs.\n",
    "    merged_mae_lists = mae_training[1:] + mae_validation[1:]\n",
    "    highest_loss = max(merged_mae_lists)\n",
    "    lowest_loss = min(merged_mae_lists)\n",
    "    delta = highest_loss - lowest_loss\n",
    "    print(delta)\n",
    "\n",
    "    top_of_y_axis = highest_loss + (delta * 0.05)\n",
    "    bottom_of_y_axis = lowest_loss - (delta * 0.05)\n",
    "   \n",
    "    plt.ylim([bottom_of_y_axis, top_of_y_axis])\n",
    "    plt.show()"
   ]
  },
  {
   "cell_type": "markdown",
   "metadata": {
    "id": "jipBqEQXlsN8"
   },
   "source": [
    "## Task 1: Experiment with the validation split\n",
    "\n",
    "In the following code cell, you'll see a variable named `validation_split`, which we've initialized at 0.2.  The `validation_split` variable specifies the proportion of the original training set that will serve as the validation set. The original training set contains 17,000 examples. Therefore, a `validation_split` of 0.2 means that:\n",
    "\n",
    "* 17,000 * 0.2 ~= 3,400 examples will become the validation set.\n",
    "* 17,000 * 0.8 ~= 13,600 examples will become the new training set.\n",
    "\n",
    "The following code builds a model, trains it on the training set, and evaluates the built model on both:\n",
    "\n",
    "* The training set.\n",
    "* And the validation set.\n",
    "\n",
    "If the data in the training set is similar to the data in the validation set, then the two loss curves and the final loss values should be almost identical. However, the loss curves and final loss values are **not** almost identical. Hmm, that's odd.  \n",
    "\n",
    "Experiment with two or three different values of `validation_split`.  Do different values of `validation_split` fix the problem? \n"
   ]
  },
  {
   "cell_type": "code",
   "execution_count": 14,
   "metadata": {
    "id": "knP23Taoa00a"
   },
   "outputs": [
    {
     "name": "stdout",
     "output_type": "stream",
     "text": [
      "Epoch 1/30\n",
      "136/136 [==============================] - 0s 1ms/step - loss: 45815.9227 - root_mean_squared_error: 213.8698 - val_loss: 48843.7617 - val_root_mean_squared_error: 221.0062\n",
      "Epoch 2/30\n",
      "136/136 [==============================] - 0s 809us/step - loss: 26200.0013 - root_mean_squared_error: 161.7504 - val_loss: 28512.4512 - val_root_mean_squared_error: 168.8563\n",
      "Epoch 3/30\n",
      "136/136 [==============================] - 0s 768us/step - loss: 14282.8474 - root_mean_squared_error: 119.3781 - val_loss: 15487.2285 - val_root_mean_squared_error: 124.4477\n",
      "Epoch 4/30\n",
      "136/136 [==============================] - 0s 858us/step - loss: 7753.8745 - root_mean_squared_error: 88.0285 - val_loss: 9678.4609 - val_root_mean_squared_error: 98.3792\n",
      "Epoch 5/30\n",
      "136/136 [==============================] - 0s 762us/step - loss: 6415.5635 - root_mean_squared_error: 80.0809 - val_loss: 9418.9268 - val_root_mean_squared_error: 97.0512\n",
      "Epoch 6/30\n",
      "136/136 [==============================] - 0s 743us/step - loss: 6634.6650 - root_mean_squared_error: 81.4428 - val_loss: 9421.3428 - val_root_mean_squared_error: 97.0636\n",
      "Epoch 7/30\n",
      "136/136 [==============================] - 0s 747us/step - loss: 6400.1401 - root_mean_squared_error: 79.9894 - val_loss: 9244.6064 - val_root_mean_squared_error: 96.1489\n",
      "Epoch 8/30\n",
      "136/136 [==============================] - 0s 751us/step - loss: 6395.3952 - root_mean_squared_error: 79.9525 - val_loss: 9252.0762 - val_root_mean_squared_error: 96.1877\n",
      "Epoch 9/30\n",
      "136/136 [==============================] - 0s 907us/step - loss: 6486.9335 - root_mean_squared_error: 80.5374 - val_loss: 9221.3057 - val_root_mean_squared_error: 96.0276\n",
      "Epoch 10/30\n",
      "136/136 [==============================] - 0s 765us/step - loss: 6516.8675 - root_mean_squared_error: 80.7144 - val_loss: 9293.6299 - val_root_mean_squared_error: 96.4035\n",
      "Epoch 11/30\n",
      "136/136 [==============================] - 0s 751us/step - loss: 6457.3748 - root_mean_squared_error: 80.3532 - val_loss: 9363.1172 - val_root_mean_squared_error: 96.7632\n",
      "Epoch 12/30\n",
      "136/136 [==============================] - 0s 723us/step - loss: 6667.8401 - root_mean_squared_error: 81.6472 - val_loss: 9290.2764 - val_root_mean_squared_error: 96.3861\n",
      "Epoch 13/30\n",
      "136/136 [==============================] - 0s 709us/step - loss: 6682.2533 - root_mean_squared_error: 81.7261 - val_loss: 9165.3193 - val_root_mean_squared_error: 95.7357\n",
      "Epoch 14/30\n",
      "136/136 [==============================] - 0s 721us/step - loss: 6642.2171 - root_mean_squared_error: 81.4955 - val_loss: 9311.8730 - val_root_mean_squared_error: 96.4981\n",
      "Epoch 15/30\n",
      "136/136 [==============================] - 0s 713us/step - loss: 6287.2678 - root_mean_squared_error: 79.2801 - val_loss: 9313.6924 - val_root_mean_squared_error: 96.5075\n",
      "Epoch 16/30\n",
      "136/136 [==============================] - 0s 745us/step - loss: 6530.3073 - root_mean_squared_error: 80.8032 - val_loss: 9306.5215 - val_root_mean_squared_error: 96.4703\n",
      "Epoch 17/30\n",
      "136/136 [==============================] - 0s 712us/step - loss: 6661.0555 - root_mean_squared_error: 81.5951 - val_loss: 9249.5039 - val_root_mean_squared_error: 96.1743\n",
      "Epoch 18/30\n",
      "136/136 [==============================] - 0s 668us/step - loss: 6682.9328 - root_mean_squared_error: 81.7351 - val_loss: 9239.9844 - val_root_mean_squared_error: 96.1248\n",
      "Epoch 19/30\n",
      "136/136 [==============================] - 0s 795us/step - loss: 6414.1335 - root_mean_squared_error: 80.0516 - val_loss: 9458.8945 - val_root_mean_squared_error: 97.2569\n",
      "Epoch 20/30\n",
      "136/136 [==============================] - 0s 678us/step - loss: 6630.8658 - root_mean_squared_error: 81.4221 - val_loss: 9325.3164 - val_root_mean_squared_error: 96.5677\n",
      "Epoch 21/30\n",
      "136/136 [==============================] - 0s 728us/step - loss: 6343.1573 - root_mean_squared_error: 79.6124 - val_loss: 9221.0186 - val_root_mean_squared_error: 96.0261\n",
      "Epoch 22/30\n",
      "136/136 [==============================] - 0s 836us/step - loss: 6671.1379 - root_mean_squared_error: 81.6530 - val_loss: 9340.4619 - val_root_mean_squared_error: 96.6461\n",
      "Epoch 23/30\n",
      "136/136 [==============================] - 0s 1ms/step - loss: 6439.9788 - root_mean_squared_error: 80.2354 - val_loss: 9407.5479 - val_root_mean_squared_error: 96.9925\n",
      "Epoch 24/30\n",
      "136/136 [==============================] - 0s 1ms/step - loss: 6483.4900 - root_mean_squared_error: 80.5153 - val_loss: 9284.4580 - val_root_mean_squared_error: 96.3559\n",
      "Epoch 25/30\n",
      "136/136 [==============================] - 0s 1ms/step - loss: 6655.9357 - root_mean_squared_error: 81.5553 - val_loss: 9211.7285 - val_root_mean_squared_error: 95.9778\n",
      "Epoch 26/30\n",
      "136/136 [==============================] - 0s 940us/step - loss: 6598.5403 - root_mean_squared_error: 81.2224 - val_loss: 9137.9277 - val_root_mean_squared_error: 95.5925\n",
      "Epoch 27/30\n",
      "136/136 [==============================] - 0s 878us/step - loss: 6596.9326 - root_mean_squared_error: 81.2128 - val_loss: 9226.8896 - val_root_mean_squared_error: 96.0567\n",
      "Epoch 28/30\n",
      "136/136 [==============================] - 0s 861us/step - loss: 6443.2019 - root_mean_squared_error: 80.2536 - val_loss: 9255.6416 - val_root_mean_squared_error: 96.2062\n",
      "Epoch 29/30\n",
      "136/136 [==============================] - 0s 845us/step - loss: 6536.1205 - root_mean_squared_error: 80.8434 - val_loss: 9293.0576 - val_root_mean_squared_error: 96.4005\n",
      "Epoch 30/30\n",
      "136/136 [==============================] - 0s 939us/step - loss: 6572.8879 - root_mean_squared_error: 81.0589 - val_loss: 9222.2969 - val_root_mean_squared_error: 96.0328\n",
      "88.16290283203125\n"
     ]
    },
    {
     "data": {
      "image/png": "[encoded data removed]",
      "text/plain": [
       "<Figure size 432x288 with 1 Axes>"
      ]
     },
     "metadata": {
      "needs_background": "light"
     },
     "output_type": "display_data"
    }
   ],
   "source": [
    "# The following variables are the hyperparameters.\n",
    "learning_rate = 0.08\n",
    "epochs = 30\n",
    "batch_size = 100\n",
    "\n",
    "# Split the original training set into a reduced training set and a\n",
    "# validation set. \n",
    "validation_split = 0.2\n",
    "\n",
    "# Identify the feature and the label.\n",
    "my_feature = \"median_income\"  # the median income on a specific city block.\n",
    "my_label = \"median_house_value\" # the median value of a house on a specific city block.\n",
    "# That is, you're going to create a model that predicts house value based \n",
    "# solely on the neighborhood's median income.  \n",
    "\n",
    "# Discard any pre-existing version of the model.\n",
    "my_model = None\n",
    "\n",
    "# Invoke the functions to build and train the model.\n",
    "my_model = build_model(learning_rate)\n",
    "epochs, rmse, history = train_model(\n",
    "    my_model, train_df, my_feature, my_label, epochs, batch_size, validation_split)\n",
    "\n",
    "plot_the_loss_curve(epochs, history[\"root_mean_squared_error\"], history[\"val_root_mean_squared_error\"])"
   ]
  },
  {
   "cell_type": "code",
   "execution_count": 16,
   "metadata": {},
   "outputs": [
    {
     "name": "stdout",
     "output_type": "stream",
     "text": [
      "88.68291473388672\n"
     ]
    },
    {
     "data": {
      "image/png": "[encoded data removed]",
      "text/plain": [
       "<Figure size 432x288 with 1 Axes>"
      ]
     },
     "metadata": {
      "needs_background": "light"
     },
     "output_type": "display_data"
    },
    {
     "name": "stdout",
     "output_type": "stream",
     "text": [
      "83.00264739990234\n"
     ]
    },
    {
     "data": {
      "image/png": "[encoded data removed]",
      "text/plain": [
       "<Figure size 432x288 with 1 Axes>"
      ]
     },
     "metadata": {
      "needs_background": "light"
     },
     "output_type": "display_data"
    },
    {
     "name": "stdout",
     "output_type": "stream",
     "text": [
      "107.39352416992188\n"
     ]
    },
    {
     "data": {
      "image/png": "[encoded data removed]",
      "text/plain": [
       "<Figure size 432x288 with 1 Axes>"
      ]
     },
     "metadata": {
      "needs_background": "light"
     },
     "output_type": "display_data"
    }
   ],
   "source": [
    "for validation_split in tqdm.tqdm([0.1, 0.25, 0.5]):\n",
    "    epochs = 30\n",
    "    my_model = build_model(learning_rate)\n",
    "    epochs, rmse, history = train_model(\n",
    "        my_model, train_df, my_feature, my_label, epochs, batch_size, validation_split, verbose=0)\n",
    "    plot_the_loss_curve(epochs, history[\"root_mean_squared_error\"], history[\"val_root_mean_squared_error\"])"
   ]
  },
  {
   "cell_type": "markdown",
   "metadata": {
    "id": "TKa11JK4Pm3f"
   },
   "source": [
    "## Task 2: Determine **why** the loss curves differ\n",
    "\n",
    "No matter how you split the training set and the validation set, the loss curves differ significantly. Evidently, the data in the training set isn't similar enough to the data in the validation set. Counterintuitive? Yes, but this problem is actually pretty common in machine learning. \n",
    "\n",
    "Your task is to determine **why** the loss curves aren't highly similar. As with most issues in machine learning, the problem is rooted in the data itself. To solve this mystery of why the training set and validation set aren't almost identical, write a line or two of [pandas code](https://colab.research.google.com/github/google/eng-edu/blob/main/ml/cc/exercises/pandas_dataframe_ultraquick_tutorial.ipynb?utm_source=validation-colab&utm_medium=colab&utm_campaign=colab-external&utm_content=pandas_tf2-colab&hl=en) in the following code cell.  Here are a couple of hints:\n",
    "\n",
    "  * The previous code cell split the original training set into:\n",
    "    * a reduced training set (the original training set - the validation set)\n",
    "    * the validation set \n",
    "  * By default, the pandas [`head`](https://pandas.pydata.org/pandas-docs/stable/reference/api/pandas.DataFrame.head.html) method outputs the *first* 5 rows of the DataFrame. To see more of the training set, specify the `n` argument to `head` and assign a large positive integer to `n`."
   ]
  },
  {
   "cell_type": "code",
   "execution_count": 20,
   "metadata": {
    "id": "VJQcAZkwJt_p"
   },
   "outputs": [
    {
     "data": {
      "text/html": [
       "<div>\n",
       "<style scoped>\n",
       "    .dataframe tbody tr th:only-of-type {\n",
       "        vertical-align: middle;\n",
       "    }\n",
       "\n",
       "    .dataframe tbody tr th {\n",
       "        vertical-align: top;\n",
       "    }\n",
       "\n",
       "    .dataframe thead th {\n",
       "        text-align: right;\n",
       "    }\n",
       "</style>\n",
       "<table border=\"1\" class=\"dataframe\">\n",
       "  <thead>\n",
       "    <tr style=\"text-align: right;\">\n",
       "      <th></th>\n",
       "      <th>longitude</th>\n",
       "      <th>latitude</th>\n",
       "      <th>housing_median_age</th>\n",
       "      <th>total_rooms</th>\n",
       "      <th>total_bedrooms</th>\n",
       "      <th>population</th>\n",
       "      <th>households</th>\n",
       "      <th>median_income</th>\n",
       "      <th>median_house_value</th>\n",
       "    </tr>\n",
       "  </thead>\n",
       "  <tbody>\n",
       "    <tr>\n",
       "      <th>0</th>\n",
       "      <td>-114.3</td>\n",
       "      <td>34.2</td>\n",
       "      <td>15.0</td>\n",
       "      <td>5612.0</td>\n",
       "      <td>1283.0</td>\n",
       "      <td>1015.0</td>\n",
       "      <td>472.0</td>\n",
       "      <td>1.5</td>\n",
       "      <td>66.9</td>\n",
       "    </tr>\n",
       "    <tr>\n",
       "      <th>1</th>\n",
       "      <td>-114.5</td>\n",
       "      <td>34.4</td>\n",
       "      <td>19.0</td>\n",
       "      <td>7650.0</td>\n",
       "      <td>1901.0</td>\n",
       "      <td>1129.0</td>\n",
       "      <td>463.0</td>\n",
       "      <td>1.8</td>\n",
       "      <td>80.1</td>\n",
       "    </tr>\n",
       "    <tr>\n",
       "      <th>2</th>\n",
       "      <td>-114.6</td>\n",
       "      <td>33.7</td>\n",
       "      <td>17.0</td>\n",
       "      <td>720.0</td>\n",
       "      <td>174.0</td>\n",
       "      <td>333.0</td>\n",
       "      <td>117.0</td>\n",
       "      <td>1.7</td>\n",
       "      <td>85.7</td>\n",
       "    </tr>\n",
       "    <tr>\n",
       "      <th>3</th>\n",
       "      <td>-114.6</td>\n",
       "      <td>33.6</td>\n",
       "      <td>14.0</td>\n",
       "      <td>1501.0</td>\n",
       "      <td>337.0</td>\n",
       "      <td>515.0</td>\n",
       "      <td>226.0</td>\n",
       "      <td>3.2</td>\n",
       "      <td>73.4</td>\n",
       "    </tr>\n",
       "    <tr>\n",
       "      <th>4</th>\n",
       "      <td>-114.6</td>\n",
       "      <td>33.6</td>\n",
       "      <td>20.0</td>\n",
       "      <td>1454.0</td>\n",
       "      <td>326.0</td>\n",
       "      <td>624.0</td>\n",
       "      <td>262.0</td>\n",
       "      <td>1.9</td>\n",
       "      <td>65.5</td>\n",
       "    </tr>\n",
       "    <tr>\n",
       "      <th>...</th>\n",
       "      <td>...</td>\n",
       "      <td>...</td>\n",
       "      <td>...</td>\n",
       "      <td>...</td>\n",
       "      <td>...</td>\n",
       "      <td>...</td>\n",
       "      <td>...</td>\n",
       "      <td>...</td>\n",
       "      <td>...</td>\n",
       "    </tr>\n",
       "    <tr>\n",
       "      <th>16995</th>\n",
       "      <td>-124.3</td>\n",
       "      <td>40.6</td>\n",
       "      <td>52.0</td>\n",
       "      <td>2217.0</td>\n",
       "      <td>394.0</td>\n",
       "      <td>907.0</td>\n",
       "      <td>369.0</td>\n",
       "      <td>2.4</td>\n",
       "      <td>111.4</td>\n",
       "    </tr>\n",
       "    <tr>\n",
       "      <th>16996</th>\n",
       "      <td>-124.3</td>\n",
       "      <td>40.7</td>\n",
       "      <td>36.0</td>\n",
       "      <td>2349.0</td>\n",
       "      <td>528.0</td>\n",
       "      <td>1194.0</td>\n",
       "      <td>465.0</td>\n",
       "      <td>2.5</td>\n",
       "      <td>79.0</td>\n",
       "    </tr>\n",
       "    <tr>\n",
       "      <th>16997</th>\n",
       "      <td>-124.3</td>\n",
       "      <td>41.8</td>\n",
       "      <td>17.0</td>\n",
       "      <td>2677.0</td>\n",
       "      <td>531.0</td>\n",
       "      <td>1244.0</td>\n",
       "      <td>456.0</td>\n",
       "      <td>3.0</td>\n",
       "      <td>103.6</td>\n",
       "    </tr>\n",
       "    <tr>\n",
       "      <th>16998</th>\n",
       "      <td>-124.3</td>\n",
       "      <td>41.8</td>\n",
       "      <td>19.0</td>\n",
       "      <td>2672.0</td>\n",
       "      <td>552.0</td>\n",
       "      <td>1298.0</td>\n",
       "      <td>478.0</td>\n",
       "      <td>2.0</td>\n",
       "      <td>85.8</td>\n",
       "    </tr>\n",
       "    <tr>\n",
       "      <th>16999</th>\n",
       "      <td>-124.3</td>\n",
       "      <td>40.5</td>\n",
       "      <td>52.0</td>\n",
       "      <td>1820.0</td>\n",
       "      <td>300.0</td>\n",
       "      <td>806.0</td>\n",
       "      <td>270.0</td>\n",
       "      <td>3.0</td>\n",
       "      <td>94.6</td>\n",
       "    </tr>\n",
       "  </tbody>\n",
       "</table>\n",
       "<p>17000 rows × 9 columns</p>\n",
       "</div>"
      ],
      "text/plain": [
       "       longitude  latitude  housing_median_age  total_rooms  total_bedrooms  \\\n",
       "0         -114.3      34.2                15.0       5612.0          1283.0   \n",
       "1         -114.5      34.4                19.0       7650.0          1901.0   \n",
       "2         -114.6      33.7                17.0        720.0           174.0   \n",
       "3         -114.6      33.6                14.0       1501.0           337.0   \n",
       "4         -114.6      33.6                20.0       1454.0           326.0   \n",
       "...          ...       ...                 ...          ...             ...   \n",
       "16995     -124.3      40.6                52.0       2217.0           394.0   \n",
       "16996     -124.3      40.7                36.0       2349.0           528.0   \n",
       "16997     -124.3      41.8                17.0       2677.0           531.0   \n",
       "16998     -124.3      41.8                19.0       2672.0           552.0   \n",
       "16999     -124.3      40.5                52.0       1820.0           300.0   \n",
       "\n",
       "       population  households  median_income  median_house_value  \n",
       "0          1015.0       472.0            1.5                66.9  \n",
       "1          1129.0       463.0            1.8                80.1  \n",
       "2           333.0       117.0            1.7                85.7  \n",
       "3           515.0       226.0            3.2                73.4  \n",
       "4           624.0       262.0            1.9                65.5  \n",
       "...           ...         ...            ...                 ...  \n",
       "16995       907.0       369.0            2.4               111.4  \n",
       "16996      1194.0       465.0            2.5                79.0  \n",
       "16997      1244.0       456.0            3.0               103.6  \n",
       "16998      1298.0       478.0            2.0                85.8  \n",
       "16999       806.0       270.0            3.0                94.6  \n",
       "\n",
       "[17000 rows x 9 columns]"
      ]
     },
     "execution_count": 20,
     "metadata": {},
     "output_type": "execute_result"
    }
   ],
   "source": [
    "train_df.head(20000)"
   ]
  },
  {
   "cell_type": "code",
   "execution_count": 28,
   "metadata": {},
   "outputs": [
    {
     "data": {
      "text/html": [
       "<div>\n",
       "<style scoped>\n",
       "    .dataframe tbody tr th:only-of-type {\n",
       "        vertical-align: middle;\n",
       "    }\n",
       "\n",
       "    .dataframe tbody tr th {\n",
       "        vertical-align: top;\n",
       "    }\n",
       "\n",
       "    .dataframe thead th {\n",
       "        text-align: right;\n",
       "    }\n",
       "</style>\n",
       "<table border=\"1\" class=\"dataframe\">\n",
       "  <thead>\n",
       "    <tr style=\"text-align: right;\">\n",
       "      <th></th>\n",
       "      <th>longitude</th>\n",
       "      <th>latitude</th>\n",
       "      <th>housing_median_age</th>\n",
       "      <th>total_rooms</th>\n",
       "      <th>total_bedrooms</th>\n",
       "      <th>population</th>\n",
       "      <th>households</th>\n",
       "      <th>median_income</th>\n",
       "      <th>median_house_value</th>\n",
       "    </tr>\n",
       "  </thead>\n",
       "  <tbody>\n",
       "    <tr>\n",
       "      <th>count</th>\n",
       "      <td>15301.0</td>\n",
       "      <td>15301.0</td>\n",
       "      <td>15301.0</td>\n",
       "      <td>15301.0</td>\n",
       "      <td>15301.0</td>\n",
       "      <td>15301.0</td>\n",
       "      <td>15301.0</td>\n",
       "      <td>15301.0</td>\n",
       "      <td>15301.0</td>\n",
       "    </tr>\n",
       "    <tr>\n",
       "      <th>mean</th>\n",
       "      <td>-119.2</td>\n",
       "      <td>35.3</td>\n",
       "      <td>28.0</td>\n",
       "      <td>2667.6</td>\n",
       "      <td>543.3</td>\n",
       "      <td>1456.4</td>\n",
       "      <td>504.9</td>\n",
       "      <td>3.9</td>\n",
       "      <td>203.5</td>\n",
       "    </tr>\n",
       "    <tr>\n",
       "      <th>std</th>\n",
       "      <td>1.8</td>\n",
       "      <td>2.0</td>\n",
       "      <td>12.3</td>\n",
       "      <td>2237.4</td>\n",
       "      <td>430.6</td>\n",
       "      <td>1179.0</td>\n",
       "      <td>392.1</td>\n",
       "      <td>1.9</td>\n",
       "      <td>113.5</td>\n",
       "    </tr>\n",
       "    <tr>\n",
       "      <th>min</th>\n",
       "      <td>-122.3</td>\n",
       "      <td>32.5</td>\n",
       "      <td>1.0</td>\n",
       "      <td>2.0</td>\n",
       "      <td>2.0</td>\n",
       "      <td>3.0</td>\n",
       "      <td>2.0</td>\n",
       "      <td>0.5</td>\n",
       "      <td>15.0</td>\n",
       "    </tr>\n",
       "    <tr>\n",
       "      <th>25%</th>\n",
       "      <td>-121.2</td>\n",
       "      <td>33.9</td>\n",
       "      <td>18.0</td>\n",
       "      <td>1458.0</td>\n",
       "      <td>296.0</td>\n",
       "      <td>798.0</td>\n",
       "      <td>281.0</td>\n",
       "      <td>2.6</td>\n",
       "      <td>119.2</td>\n",
       "    </tr>\n",
       "    <tr>\n",
       "      <th>50%</th>\n",
       "      <td>-118.4</td>\n",
       "      <td>34.2</td>\n",
       "      <td>28.0</td>\n",
       "      <td>2129.0</td>\n",
       "      <td>435.0</td>\n",
       "      <td>1185.0</td>\n",
       "      <td>410.0</td>\n",
       "      <td>3.5</td>\n",
       "      <td>177.0</td>\n",
       "    </tr>\n",
       "    <tr>\n",
       "      <th>75%</th>\n",
       "      <td>-117.9</td>\n",
       "      <td>37.4</td>\n",
       "      <td>36.0</td>\n",
       "      <td>3172.0</td>\n",
       "      <td>652.0</td>\n",
       "      <td>1756.0</td>\n",
       "      <td>607.0</td>\n",
       "      <td>4.8</td>\n",
       "      <td>256.6</td>\n",
       "    </tr>\n",
       "    <tr>\n",
       "      <th>max</th>\n",
       "      <td>-114.3</td>\n",
       "      <td>41.9</td>\n",
       "      <td>52.0</td>\n",
       "      <td>37937.0</td>\n",
       "      <td>6445.0</td>\n",
       "      <td>35682.0</td>\n",
       "      <td>6082.0</td>\n",
       "      <td>15.0</td>\n",
       "      <td>500.0</td>\n",
       "    </tr>\n",
       "  </tbody>\n",
       "</table>\n",
       "</div>"
      ],
      "text/plain": [
       "       longitude  latitude  housing_median_age  total_rooms  total_bedrooms  \\\n",
       "count    15301.0   15301.0             15301.0      15301.0         15301.0   \n",
       "mean      -119.2      35.3                28.0       2667.6           543.3   \n",
       "std          1.8       2.0                12.3       2237.4           430.6   \n",
       "min       -122.3      32.5                 1.0          2.0             2.0   \n",
       "25%       -121.2      33.9                18.0       1458.0           296.0   \n",
       "50%       -118.4      34.2                28.0       2129.0           435.0   \n",
       "75%       -117.9      37.4                36.0       3172.0           652.0   \n",
       "max       -114.3      41.9                52.0      37937.0          6445.0   \n",
       "\n",
       "       population  households  median_income  median_house_value  \n",
       "count     15301.0     15301.0        15301.0             15301.0  \n",
       "mean       1456.4       504.9            3.9               203.5  \n",
       "std        1179.0       392.1            1.9               113.5  \n",
       "min           3.0         2.0            0.5                15.0  \n",
       "25%         798.0       281.0            2.6               119.2  \n",
       "50%        1185.0       410.0            3.5               177.0  \n",
       "75%        1756.0       607.0            4.8               256.6  \n",
       "max       35682.0      6082.0           15.0               500.0  "
      ]
     },
     "execution_count": 28,
     "metadata": {},
     "output_type": "execute_result"
    }
   ],
   "source": [
    "validation_split = 0.1\n",
    "idx = int(len(train_df) * (1 - validation_split))\n",
    "\n",
    "# Train data used by fit:\n",
    "train_df.loc[:idx].describe()"
   ]
  },
  {
   "cell_type": "code",
   "execution_count": 29,
   "metadata": {},
   "outputs": [
    {
     "data": {
      "text/html": [
       "<div>\n",
       "<style scoped>\n",
       "    .dataframe tbody tr th:only-of-type {\n",
       "        vertical-align: middle;\n",
       "    }\n",
       "\n",
       "    .dataframe tbody tr th {\n",
       "        vertical-align: top;\n",
       "    }\n",
       "\n",
       "    .dataframe thead th {\n",
       "        text-align: right;\n",
       "    }\n",
       "</style>\n",
       "<table border=\"1\" class=\"dataframe\">\n",
       "  <thead>\n",
       "    <tr style=\"text-align: right;\">\n",
       "      <th></th>\n",
       "      <th>longitude</th>\n",
       "      <th>latitude</th>\n",
       "      <th>housing_median_age</th>\n",
       "      <th>total_rooms</th>\n",
       "      <th>total_bedrooms</th>\n",
       "      <th>population</th>\n",
       "      <th>households</th>\n",
       "      <th>median_income</th>\n",
       "      <th>median_house_value</th>\n",
       "    </tr>\n",
       "  </thead>\n",
       "  <tbody>\n",
       "    <tr>\n",
       "      <th>count</th>\n",
       "      <td>1700.0</td>\n",
       "      <td>1700.0</td>\n",
       "      <td>1700.0</td>\n",
       "      <td>1700.0</td>\n",
       "      <td>1700.0</td>\n",
       "      <td>1700.0</td>\n",
       "      <td>1700.0</td>\n",
       "      <td>1700.0</td>\n",
       "      <td>1700.0</td>\n",
       "    </tr>\n",
       "    <tr>\n",
       "      <th>mean</th>\n",
       "      <td>-122.7</td>\n",
       "      <td>38.5</td>\n",
       "      <td>34.3</td>\n",
       "      <td>2427.1</td>\n",
       "      <td>504.5</td>\n",
       "      <td>1187.8</td>\n",
       "      <td>468.1</td>\n",
       "      <td>3.8</td>\n",
       "      <td>241.5</td>\n",
       "    </tr>\n",
       "    <tr>\n",
       "      <th>std</th>\n",
       "      <td>0.5</td>\n",
       "      <td>1.1</td>\n",
       "      <td>13.8</td>\n",
       "      <td>1554.4</td>\n",
       "      <td>325.8</td>\n",
       "      <td>774.1</td>\n",
       "      <td>306.0</td>\n",
       "      <td>1.8</td>\n",
       "      <td>131.6</td>\n",
       "    </tr>\n",
       "    <tr>\n",
       "      <th>min</th>\n",
       "      <td>-124.3</td>\n",
       "      <td>37.2</td>\n",
       "      <td>2.0</td>\n",
       "      <td>8.0</td>\n",
       "      <td>1.0</td>\n",
       "      <td>11.0</td>\n",
       "      <td>1.0</td>\n",
       "      <td>0.5</td>\n",
       "      <td>15.0</td>\n",
       "    </tr>\n",
       "    <tr>\n",
       "      <th>25%</th>\n",
       "      <td>-122.7</td>\n",
       "      <td>37.8</td>\n",
       "      <td>22.0</td>\n",
       "      <td>1507.8</td>\n",
       "      <td>305.0</td>\n",
       "      <td>721.8</td>\n",
       "      <td>285.0</td>\n",
       "      <td>2.6</td>\n",
       "      <td>127.3</td>\n",
       "    </tr>\n",
       "    <tr>\n",
       "      <th>50%</th>\n",
       "      <td>-122.5</td>\n",
       "      <td>37.9</td>\n",
       "      <td>35.0</td>\n",
       "      <td>2106.5</td>\n",
       "      <td>425.0</td>\n",
       "      <td>1027.0</td>\n",
       "      <td>399.5</td>\n",
       "      <td>3.5</td>\n",
       "      <td>235.2</td>\n",
       "    </tr>\n",
       "    <tr>\n",
       "      <th>75%</th>\n",
       "      <td>-122.4</td>\n",
       "      <td>38.5</td>\n",
       "      <td>48.0</td>\n",
       "      <td>2926.2</td>\n",
       "      <td>627.0</td>\n",
       "      <td>1479.0</td>\n",
       "      <td>584.0</td>\n",
       "      <td>4.5</td>\n",
       "      <td>330.2</td>\n",
       "    </tr>\n",
       "    <tr>\n",
       "      <th>max</th>\n",
       "      <td>-122.3</td>\n",
       "      <td>42.0</td>\n",
       "      <td>52.0</td>\n",
       "      <td>14034.0</td>\n",
       "      <td>3020.0</td>\n",
       "      <td>6511.0</td>\n",
       "      <td>2952.0</td>\n",
       "      <td>15.0</td>\n",
       "      <td>500.0</td>\n",
       "    </tr>\n",
       "  </tbody>\n",
       "</table>\n",
       "</div>"
      ],
      "text/plain": [
       "       longitude  latitude  housing_median_age  total_rooms  total_bedrooms  \\\n",
       "count     1700.0    1700.0              1700.0       1700.0          1700.0   \n",
       "mean      -122.7      38.5                34.3       2427.1           504.5   \n",
       "std          0.5       1.1                13.8       1554.4           325.8   \n",
       "min       -124.3      37.2                 2.0          8.0             1.0   \n",
       "25%       -122.7      37.8                22.0       1507.8           305.0   \n",
       "50%       -122.5      37.9                35.0       2106.5           425.0   \n",
       "75%       -122.4      38.5                48.0       2926.2           627.0   \n",
       "max       -122.3      42.0                52.0      14034.0          3020.0   \n",
       "\n",
       "       population  households  median_income  median_house_value  \n",
       "count      1700.0      1700.0         1700.0              1700.0  \n",
       "mean       1187.8       468.1            3.8               241.5  \n",
       "std         774.1       306.0            1.8               131.6  \n",
       "min          11.0         1.0            0.5                15.0  \n",
       "25%         721.8       285.0            2.6               127.3  \n",
       "50%        1027.0       399.5            3.5               235.2  \n",
       "75%        1479.0       584.0            4.5               330.2  \n",
       "max        6511.0      2952.0           15.0               500.0  "
      ]
     },
     "execution_count": 29,
     "metadata": {},
     "output_type": "execute_result"
    }
   ],
   "source": [
    "# Val data used by fit:\n",
    "train_df.loc[idx:].describe()"
   ]
  },
  {
   "cell_type": "markdown",
   "metadata": {
    "cellView": "form",
    "id": "EnNvkFwwK8WY"
   },
   "source": [
    "Data is sorted by longitude. The last 10% of samples vary vastly from the first 90% of samples.\n",
    "\n",
    "By default Model().fit takes val split from tail (without random shuffle) hence the val set is a quite different distribution from the train set."
   ]
  },
  {
   "cell_type": "markdown",
   "metadata": {
    "id": "rw4xI1ZEckI8"
   },
   "source": [
    "## Task 3. Fix the problem\n",
    "\n",
    "To fix the problem, shuffle the examples in the training set before splitting the examples into a training set and validation set. To do so, take the following steps:\n",
    "\n",
    "1. Shuffle the data in the training set by adding the following line anywhere before you call `train_model` (in the code cell associated with Task 1):\n",
    "\n",
    "```\n",
    "  shuffled_train_df = train_df.reindex(np.random.permutation(train_df.index))\n",
    "```                                    \n",
    "\n",
    "2. Pass `shuffled_train_df` (instead of `train_df`) as the second argument to `train_model` (in the code call associated with Task 1) so that the call becomes as follows:\n",
    "\n",
    "```\n",
    "  epochs, rmse, history = train_model(my_model, shuffled_train_df, my_feature, \n",
    "                                      my_label, epochs, batch_size, \n",
    "                                      validation_split)\n",
    "```"
   ]
  },
  {
   "cell_type": "code",
   "execution_count": 38,
   "metadata": {
    "cellView": "form",
    "id": "ncODhpv0h-LG"
   },
   "outputs": [
    {
     "name": "stdout",
     "output_type": "stream",
     "text": [
      "Epoch 1/70\n",
      "136/136 [==============================] - 0s 1ms/step - loss: 48429.7271 - root_mean_squared_error: 219.9396 - val_loss: 32084.5527 - val_root_mean_squared_error: 179.1216\n",
      "Epoch 2/70\n",
      "136/136 [==============================] - 0s 698us/step - loss: 29007.9795 - root_mean_squared_error: 170.1710 - val_loss: 17715.4277 - val_root_mean_squared_error: 133.0993\n",
      "Epoch 3/70\n",
      "136/136 [==============================] - 0s 748us/step - loss: 15992.0308 - root_mean_squared_error: 126.2849 - val_loss: 9524.9092 - val_root_mean_squared_error: 97.5956\n",
      "Epoch 4/70\n",
      "136/136 [==============================] - 0s 892us/step - loss: 8562.9439 - root_mean_squared_error: 92.4958 - val_loss: 7113.0786 - val_root_mean_squared_error: 84.3391\n",
      "Epoch 5/70\n",
      "136/136 [==============================] - 0s 1ms/step - loss: 6912.4010 - root_mean_squared_error: 83.1392 - val_loss: 7113.6167 - val_root_mean_squared_error: 84.3423\n",
      "Epoch 6/70\n",
      "136/136 [==============================] - 0s 963us/step - loss: 7047.5472 - root_mean_squared_error: 83.9409 - val_loss: 7108.2988 - val_root_mean_squared_error: 84.3107\n",
      "Epoch 7/70\n",
      "136/136 [==============================] - 0s 840us/step - loss: 7103.4096 - root_mean_squared_error: 84.2717 - val_loss: 7116.7568 - val_root_mean_squared_error: 84.3609\n",
      "Epoch 8/70\n",
      "136/136 [==============================] - 0s 1ms/step - loss: 7057.9581 - root_mean_squared_error: 84.0026 - val_loss: 7114.8115 - val_root_mean_squared_error: 84.3493\n",
      "Epoch 9/70\n",
      "136/136 [==============================] - 0s 958us/step - loss: 7036.1278 - root_mean_squared_error: 83.8769 - val_loss: 7107.4248 - val_root_mean_squared_error: 84.3055\n",
      "Epoch 10/70\n",
      "136/136 [==============================] - 0s 944us/step - loss: 7323.1169 - root_mean_squared_error: 85.5573 - val_loss: 7111.9702 - val_root_mean_squared_error: 84.3325\n",
      "Epoch 11/70\n",
      "136/136 [==============================] - 0s 942us/step - loss: 7011.1917 - root_mean_squared_error: 83.7165 - val_loss: 7124.0742 - val_root_mean_squared_error: 84.4042\n",
      "Epoch 12/70\n",
      "136/136 [==============================] - 0s 938us/step - loss: 6787.6010 - root_mean_squared_error: 82.3797 - val_loss: 7129.7729 - val_root_mean_squared_error: 84.4380\n",
      "Epoch 13/70\n",
      "136/136 [==============================] - 0s 906us/step - loss: 7021.5961 - root_mean_squared_error: 83.7916 - val_loss: 7117.8740 - val_root_mean_squared_error: 84.3675\n",
      "Epoch 14/70\n",
      "136/136 [==============================] - 0s 832us/step - loss: 7139.2643 - root_mean_squared_error: 84.4839 - val_loss: 7107.1582 - val_root_mean_squared_error: 84.3040\n",
      "Epoch 15/70\n",
      "136/136 [==============================] - 0s 999us/step - loss: 7108.1194 - root_mean_squared_error: 84.3039 - val_loss: 7104.6147 - val_root_mean_squared_error: 84.2889\n",
      "Epoch 16/70\n",
      "136/136 [==============================] - 0s 916us/step - loss: 7204.2028 - root_mean_squared_error: 84.8686 - val_loss: 7108.4736 - val_root_mean_squared_error: 84.3118\n",
      "Epoch 17/70\n",
      "136/136 [==============================] - 0s 916us/step - loss: 7016.6867 - root_mean_squared_error: 83.7565 - val_loss: 7103.4131 - val_root_mean_squared_error: 84.2817\n",
      "Epoch 18/70\n",
      "136/136 [==============================] - 0s 927us/step - loss: 6879.0943 - root_mean_squared_error: 82.9364 - val_loss: 7124.5195 - val_root_mean_squared_error: 84.4069\n",
      "Epoch 19/70\n",
      "136/136 [==============================] - 0s 1ms/step - loss: 7023.6810 - root_mean_squared_error: 83.7839 - val_loss: 7111.3853 - val_root_mean_squared_error: 84.3290\n",
      "Epoch 20/70\n",
      "136/136 [==============================] - 0s 1ms/step - loss: 6959.0941 - root_mean_squared_error: 83.4169 - val_loss: 7120.6143 - val_root_mean_squared_error: 84.3837\n",
      "Epoch 21/70\n",
      "136/136 [==============================] - 0s 925us/step - loss: 6997.3126 - root_mean_squared_error: 83.6457 - val_loss: 7114.7212 - val_root_mean_squared_error: 84.3488\n",
      "Epoch 22/70\n",
      "136/136 [==============================] - 0s 977us/step - loss: 6892.5754 - root_mean_squared_error: 83.0148 - val_loss: 7113.6431 - val_root_mean_squared_error: 84.3424\n",
      "Epoch 23/70\n",
      "136/136 [==============================] - 0s 1ms/step - loss: 7146.8633 - root_mean_squared_error: 84.5307 - val_loss: 7111.5752 - val_root_mean_squared_error: 84.3302\n",
      "Epoch 24/70\n",
      "136/136 [==============================] - 0s 852us/step - loss: 7097.5671 - root_mean_squared_error: 84.2360 - val_loss: 7103.2988 - val_root_mean_squared_error: 84.2811\n",
      "Epoch 25/70\n",
      "136/136 [==============================] - 0s 956us/step - loss: 7105.2107 - root_mean_squared_error: 84.2901 - val_loss: 7105.5854 - val_root_mean_squared_error: 84.2946\n",
      "Epoch 26/70\n",
      "136/136 [==============================] - 0s 902us/step - loss: 6820.9418 - root_mean_squared_error: 82.5768 - val_loss: 7110.3999 - val_root_mean_squared_error: 84.3232\n",
      "Epoch 27/70\n",
      "136/136 [==============================] - 0s 1ms/step - loss: 6945.7485 - root_mean_squared_error: 83.3274 - val_loss: 7138.4883 - val_root_mean_squared_error: 84.4896\n",
      "Epoch 28/70\n",
      "136/136 [==============================] - 0s 831us/step - loss: 6956.2526 - root_mean_squared_error: 83.3898 - val_loss: 7104.7959 - val_root_mean_squared_error: 84.2900\n",
      "Epoch 29/70\n",
      "136/136 [==============================] - 0s 794us/step - loss: 6926.3098 - root_mean_squared_error: 83.2189 - val_loss: 7105.4277 - val_root_mean_squared_error: 84.2937\n",
      "Epoch 30/70\n",
      "136/136 [==============================] - 0s 854us/step - loss: 6941.4697 - root_mean_squared_error: 83.3099 - val_loss: 7109.7671 - val_root_mean_squared_error: 84.3194\n",
      "Epoch 31/70\n",
      "136/136 [==============================] - 0s 1ms/step - loss: 7043.1563 - root_mean_squared_error: 83.9163 - val_loss: 7128.7363 - val_root_mean_squared_error: 84.4318\n",
      "Epoch 32/70\n",
      "136/136 [==============================] - 0s 967us/step - loss: 6771.9040 - root_mean_squared_error: 82.2736 - val_loss: 7106.2788 - val_root_mean_squared_error: 84.2987\n",
      "Epoch 33/70\n",
      "136/136 [==============================] - 0s 912us/step - loss: 6929.9217 - root_mean_squared_error: 83.2438 - val_loss: 7113.3384 - val_root_mean_squared_error: 84.3406\n",
      "Epoch 34/70\n",
      "136/136 [==============================] - 0s 996us/step - loss: 6947.6911 - root_mean_squared_error: 83.3490 - val_loss: 7104.7041 - val_root_mean_squared_error: 84.2894\n",
      "Epoch 35/70\n",
      "136/136 [==============================] - 0s 897us/step - loss: 6928.6061 - root_mean_squared_error: 83.2339 - val_loss: 7130.8535 - val_root_mean_squared_error: 84.4444\n",
      "Epoch 36/70\n",
      "136/136 [==============================] - 0s 1ms/step - loss: 6930.0024 - root_mean_squared_error: 83.2262 - val_loss: 7105.7148 - val_root_mean_squared_error: 84.2954\n",
      "Epoch 37/70\n",
      "136/136 [==============================] - 0s 847us/step - loss: 7000.6565 - root_mean_squared_error: 83.6629 - val_loss: 7104.1362 - val_root_mean_squared_error: 84.2860\n",
      "Epoch 38/70\n",
      "136/136 [==============================] - 0s 718us/step - loss: 6889.5043 - root_mean_squared_error: 82.9854 - val_loss: 7103.4160 - val_root_mean_squared_error: 84.2818\n",
      "Epoch 39/70\n",
      "136/136 [==============================] - 0s 737us/step - loss: 6973.2657 - root_mean_squared_error: 83.5015 - val_loss: 7107.0439 - val_root_mean_squared_error: 84.3033\n",
      "Epoch 40/70\n",
      "136/136 [==============================] - 0s 689us/step - loss: 6997.8238 - root_mean_squared_error: 83.6506 - val_loss: 7114.7451 - val_root_mean_squared_error: 84.3489\n",
      "Epoch 41/70\n",
      "136/136 [==============================] - 0s 963us/step - loss: 7102.6200 - root_mean_squared_error: 84.2733 - val_loss: 7105.7817 - val_root_mean_squared_error: 84.2958\n",
      "Epoch 42/70\n",
      "136/136 [==============================] - 0s 1ms/step - loss: 6954.5550 - root_mean_squared_error: 83.3864 - val_loss: 7108.1807 - val_root_mean_squared_error: 84.3100\n",
      "Epoch 43/70\n",
      "136/136 [==============================] - 0s 1ms/step - loss: 7140.6155 - root_mean_squared_error: 84.4948 - val_loss: 7108.0493 - val_root_mean_squared_error: 84.3092\n",
      "Epoch 44/70\n",
      "136/136 [==============================] - 0s 1ms/step - loss: 7048.8440 - root_mean_squared_error: 83.9521 - val_loss: 7103.1577 - val_root_mean_squared_error: 84.2802\n",
      "Epoch 45/70\n",
      "136/136 [==============================] - 0s 1ms/step - loss: 6780.8223 - root_mean_squared_error: 82.2920 - val_loss: 7106.9780 - val_root_mean_squared_error: 84.3029\n"
     ]
    },
    {
     "name": "stdout",
     "output_type": "stream",
     "text": [
      "Epoch 46/70\n",
      "136/136 [==============================] - 0s 1ms/step - loss: 6923.5117 - root_mean_squared_error: 83.2049 - val_loss: 7107.9116 - val_root_mean_squared_error: 84.3084\n",
      "Epoch 47/70\n",
      "136/136 [==============================] - 0s 1ms/step - loss: 7086.7361 - root_mean_squared_error: 84.1772 - val_loss: 7104.1323 - val_root_mean_squared_error: 84.2860\n",
      "Epoch 48/70\n",
      "136/136 [==============================] - 0s 994us/step - loss: 6906.7891 - root_mean_squared_error: 83.0952 - val_loss: 7117.5171 - val_root_mean_squared_error: 84.3654\n",
      "Epoch 49/70\n",
      "136/136 [==============================] - 0s 1ms/step - loss: 6962.5786 - root_mean_squared_error: 83.4329 - val_loss: 7102.1748 - val_root_mean_squared_error: 84.2744\n",
      "Epoch 50/70\n",
      "136/136 [==============================] - 0s 1ms/step - loss: 6987.0990 - root_mean_squared_error: 83.5848 - val_loss: 7117.0371 - val_root_mean_squared_error: 84.3625\n",
      "Epoch 51/70\n",
      "136/136 [==============================] - 0s 745us/step - loss: 7014.8609 - root_mean_squared_error: 83.7371 - val_loss: 7119.3335 - val_root_mean_squared_error: 84.3761\n",
      "Epoch 52/70\n",
      "136/136 [==============================] - 0s 1ms/step - loss: 6882.3932 - root_mean_squared_error: 82.9562 - val_loss: 7116.2095 - val_root_mean_squared_error: 84.3576\n",
      "Epoch 53/70\n",
      "136/136 [==============================] - 0s 1ms/step - loss: 6864.6543 - root_mean_squared_error: 82.8449 - val_loss: 7117.9116 - val_root_mean_squared_error: 84.3677\n",
      "Epoch 54/70\n",
      "136/136 [==============================] - 0s 708us/step - loss: 7062.1015 - root_mean_squared_error: 84.0267 - val_loss: 7123.6753 - val_root_mean_squared_error: 84.4019\n",
      "Epoch 55/70\n",
      "136/136 [==============================] - 0s 1ms/step - loss: 6946.4924 - root_mean_squared_error: 83.3396 - val_loss: 7119.7412 - val_root_mean_squared_error: 84.3786\n",
      "Epoch 56/70\n",
      "136/136 [==============================] - 0s 1ms/step - loss: 7091.9453 - root_mean_squared_error: 84.2025 - val_loss: 7112.9336 - val_root_mean_squared_error: 84.3382\n",
      "Epoch 57/70\n",
      "136/136 [==============================] - 0s 731us/step - loss: 6970.7032 - root_mean_squared_error: 83.4891 - val_loss: 7115.9761 - val_root_mean_squared_error: 84.3562\n",
      "Epoch 58/70\n",
      "136/136 [==============================] - 0s 796us/step - loss: 7054.7462 - root_mean_squared_error: 83.9857 - val_loss: 7106.3823 - val_root_mean_squared_error: 84.2994\n",
      "Epoch 59/70\n",
      "136/136 [==============================] - 0s 860us/step - loss: 7176.6989 - root_mean_squared_error: 84.7102 - val_loss: 7109.0449 - val_root_mean_squared_error: 84.3152\n",
      "Epoch 60/70\n",
      "136/136 [==============================] - 0s 778us/step - loss: 7147.2218 - root_mean_squared_error: 84.5310 - val_loss: 7105.8325 - val_root_mean_squared_error: 84.2961\n",
      "Epoch 61/70\n",
      "136/136 [==============================] - 0s 703us/step - loss: 7070.4051 - root_mean_squared_error: 84.0816 - val_loss: 7112.2393 - val_root_mean_squared_error: 84.3341\n",
      "Epoch 62/70\n",
      "136/136 [==============================] - 0s 745us/step - loss: 6894.5868 - root_mean_squared_error: 83.0252 - val_loss: 7104.1328 - val_root_mean_squared_error: 84.2860\n",
      "Epoch 63/70\n",
      "136/136 [==============================] - 0s 745us/step - loss: 7160.8830 - root_mean_squared_error: 84.6100 - val_loss: 7107.4800 - val_root_mean_squared_error: 84.3059\n",
      "Epoch 64/70\n",
      "136/136 [==============================] - 0s 791us/step - loss: 6812.6704 - root_mean_squared_error: 82.5120 - val_loss: 7105.9971 - val_root_mean_squared_error: 84.2971\n",
      "Epoch 65/70\n",
      "136/136 [==============================] - 0s 1ms/step - loss: 7105.1469 - root_mean_squared_error: 84.2846 - val_loss: 7104.5552 - val_root_mean_squared_error: 84.2885\n",
      "Epoch 66/70\n",
      "136/136 [==============================] - 0s 1ms/step - loss: 7252.7178 - root_mean_squared_error: 85.1509 - val_loss: 7107.5684 - val_root_mean_squared_error: 84.3064\n",
      "Epoch 67/70\n",
      "136/136 [==============================] - 0s 3ms/step - loss: 6990.9527 - root_mean_squared_error: 83.6099 - val_loss: 7104.9106 - val_root_mean_squared_error: 84.2906\n",
      "Epoch 68/70\n",
      "136/136 [==============================] - 0s 2ms/step - loss: 6978.6650 - root_mean_squared_error: 83.5347 - val_loss: 7114.4941 - val_root_mean_squared_error: 84.3475\n",
      "Epoch 69/70\n",
      "136/136 [==============================] - 0s 1ms/step - loss: 7023.6067 - root_mean_squared_error: 83.8022 - val_loss: 7131.9717 - val_root_mean_squared_error: 84.4510\n",
      "Epoch 70/70\n",
      "136/136 [==============================] - 0s 1ms/step - loss: 7017.0156 - root_mean_squared_error: 83.7608 - val_loss: 7108.7412 - val_root_mean_squared_error: 84.3133\n",
      "75.41962432861328\n"
     ]
    },
    {
     "data": {
      "image/png": "[encoded data removed]",
      "text/plain": [
       "<Figure size 432x288 with 1 Axes>"
      ]
     },
     "metadata": {
      "needs_background": "light"
     },
     "output_type": "display_data"
    }
   ],
   "source": [
    "# The following variables are the hyperparameters.\n",
    "learning_rate = 0.08\n",
    "epochs = 70\n",
    "batch_size = 100\n",
    "\n",
    "# Split the original training set into a reduced training set and a\n",
    "# validation set. \n",
    "validation_split=0.2\n",
    "\n",
    "# Identify the feature and the label.\n",
    "my_feature=\"median_income\"  # the median income on a specific city block.\n",
    "my_label=\"median_house_value\" # the median value of a house on a specific city block.\n",
    "# That is, you're going to create a model that predicts house value based \n",
    "# solely on the neighborhood's median income.  \n",
    "\n",
    "# Discard any pre-existing version of the model.\n",
    "my_model = None\n",
    "\n",
    "# Shuffle the examples.\n",
    "shuffled_train_df = train_df.reindex(np.random.permutation(train_df.index)) \n",
    "\n",
    "# Invoke the functions to build and train the model. Train on the shuffled\n",
    "# training set.\n",
    "my_model = build_model(learning_rate)\n",
    "epochs, rmse, history = train_model(my_model, shuffled_train_df, my_feature, \n",
    "                                    my_label, epochs, batch_size, \n",
    "                                    validation_split)\n",
    "\n",
    "plot_the_loss_curve(epochs, history[\"root_mean_squared_error\"], \n",
    "                    history[\"val_root_mean_squared_error\"])"
   ]
  },
  {
   "cell_type": "code",
   "execution_count": 35,
   "metadata": {},
   "outputs": [
    {
     "data": {
      "application/vnd.jupyter.widget-view+json": {
       "model_id": "132e6f2422fe48b7be58379c83a33e90",
       "version_major": 2,
       "version_minor": 0
      },
      "text/plain": [
       "  0%|          | 0/5 [00:00<?, ?it/s]"
      ]
     },
     "metadata": {},
     "output_type": "display_data"
    },
    {
     "name": "stdout",
     "output_type": "stream",
     "text": [
      "64.8016128540039\n"
     ]
    },
    {
     "data": {
      "image/png": "[encoded data removed]",
      "text/plain": [
       "<Figure size 432x288 with 1 Axes>"
      ]
     },
     "metadata": {
      "needs_background": "light"
     },
     "output_type": "display_data"
    },
    {
     "name": "stdout",
     "output_type": "stream",
     "text": [
      "107.42634582519531\n"
     ]
    },
    {
     "data": {
      "image/png": "[encoded data removed]",
      "text/plain": [
       "<Figure size 432x288 with 1 Axes>"
      ]
     },
     "metadata": {
      "needs_background": "light"
     },
     "output_type": "display_data"
    },
    {
     "name": "stdout",
     "output_type": "stream",
     "text": [
      "124.37723541259766\n"
     ]
    },
    {
     "data": {
      "image/png": "[encoded data removed]",
      "text/plain": [
       "<Figure size 432x288 with 1 Axes>"
      ]
     },
     "metadata": {
      "needs_background": "light"
     },
     "output_type": "display_data"
    },
    {
     "name": "stdout",
     "output_type": "stream",
     "text": [
      "142.9967269897461\n"
     ]
    },
    {
     "data": {
      "image/png": "[encoded data removed]",
      "text/plain": [
       "<Figure size 432x288 with 1 Axes>"
      ]
     },
     "metadata": {
      "needs_background": "light"
     },
     "output_type": "display_data"
    },
    {
     "name": "stdout",
     "output_type": "stream",
     "text": [
      "58.51570129394531\n"
     ]
    },
    {
     "data": {
      "image/png": "[encoded data removed]",
      "text/plain": [
       "<Figure size 432x288 with 1 Axes>"
      ]
     },
     "metadata": {
      "needs_background": "light"
     },
     "output_type": "display_data"
    }
   ],
   "source": [
    "for validation_split in tqdm.tqdm([0.1, 0.5, 0.7, 0.95, 0.99]):\n",
    "    epochs = 70\n",
    "    _my_model = build_model(learning_rate)\n",
    "    epochs, rmse, history = train_model(\n",
    "        _my_model, shuffled_train_df, my_feature, my_label, epochs, batch_size, validation_split, verbose=0)\n",
    "    plot_the_loss_curve(epochs, history[\"root_mean_squared_error\"], history[\"val_root_mean_squared_error\"])"
   ]
  },
  {
   "cell_type": "markdown",
   "metadata": {
    "id": "tKN239_miW8C"
   },
   "source": [
    "Experiment with `validation_split` to answer the following questions:\n",
    "\n",
    "* With the training set shuffled, is the final loss for the training set closer to the final loss for the validation set?  \n",
    "* At what range of values of `validation_split` do the final loss values for the training set and validation set diverge meaningfully?  Why?"
   ]
  },
  {
   "cell_type": "markdown",
   "metadata": {},
   "source": [
    "A:\n",
    "* Yes - you from the plots, they coincide.\n",
    "* If validation_split ~< 0.1 the validation loss diverges from the train loss. Interestingly, even using just 5% of data for train and 95% for val gives a good model out. After using just 1% of data for train and 99% for val, the model doesn't learn anything."
   ]
  },
  {
   "cell_type": "markdown",
   "metadata": {
    "id": "1PP-O8TOZOeo"
   },
   "source": [
    "## Task 4: Use the Test Dataset to Evaluate Your Model's Performance\n",
    "\n",
    "The test set usually acts as the ultimate judge of a model's quality. The test set can serve as an impartial judge because its examples haven't been used in training the model. Run the following code cell to evaluate the model with the test set:"
   ]
  },
  {
   "cell_type": "code",
   "execution_count": 39,
   "metadata": {
    "id": "nd_Sw2cygOip"
   },
   "outputs": [
    {
     "name": "stdout",
     "output_type": "stream",
     "text": [
      "30/30 [==============================] - 0s 766us/step - loss: 7011.7495 - root_mean_squared_error: 83.7362\n"
     ]
    }
   ],
   "source": [
    "x_test = test_df[my_feature]\n",
    "y_test = test_df[my_label]\n",
    "\n",
    "results = my_model.evaluate(x_test, y_test, batch_size=batch_size)"
   ]
  },
  {
   "cell_type": "markdown",
   "metadata": {
    "id": "qoyQKvsjmV_A"
   },
   "source": [
    "Compare the root mean squared error of the model when evaluated on each of the three datasets:\n",
    "\n",
    "* training set: look for `root_mean_squared_error` in the final training epoch.\n",
    "* validation set: look for `val_root_mean_squared_error` in the final training epoch.\n",
    "* test set: run the preceding code cell and examine the `root_mean_squred_error`.\n",
    "\n",
    "Ideally, the root mean squared error of all three sets should be similar. Are they?"
   ]
  },
  {
   "cell_type": "code",
   "execution_count": 47,
   "metadata": {
    "cellView": "form",
    "id": "FxXtp-aVdIgJ"
   },
   "outputs": [
    {
     "name": "stdout",
     "output_type": "stream",
     "text": [
      "Train rmse =  83.61565399169922\n",
      "Val rmse =  84.31334686279297\n"
     ]
    }
   ],
   "source": [
    "print(\"Train rmse = \", history['root_mean_squared_error'][-1])\n",
    "print(\"Val rmse = \", history['val_root_mean_squared_error'][-1])"
   ]
  },
  {
   "cell_type": "markdown",
   "metadata": {},
   "source": [
    "Yes, the rmse between all splits are similar"
   ]
  }
 ],
 "metadata": {
  "colab": {
   "collapsed_sections": [],
   "name": "Validation and Test Sets.ipynb",
   "private_outputs": true,
   "provenance": []
  },
  "kernelspec": {
   "display_name": "Python 3",
   "language": "python",
   "name": "python3"
  },
  "language_info": {
   "codemirror_mode": {
    "name": "ipython",
    "version": 3
   },
   "file_extension": ".py",
   "mimetype": "text/x-python",
   "name": "python",
   "nbconvert_exporter": "python",
   "pygments_lexer": "ipython3",
   "version": "3.8.5"
  }
 },
 "nbformat": 4,
 "nbformat_minor": 1
}
