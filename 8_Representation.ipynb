{
 "cells": [
  {
   "cell_type": "markdown",
   "id": "supposed-complex",
   "metadata": {},
   "source": [
    "# Representation"
   ]
  },
  {
   "cell_type": "markdown",
   "id": "wrapped-dating",
   "metadata": {},
   "source": [
    "## Feature engineering\n",
    "\n",
    "Extracting features from real life data. "
   ]
  },
  {
   "cell_type": "markdown",
   "id": "individual-mills",
   "metadata": {},
   "source": [
    "* Numeric features, e.g. `num_rooms` can often be directly used.\n",
    "* String features can be one-hot-encoded for sparse-categorical data"
   ]
  },
  {
   "cell_type": "markdown",
   "id": "composed-gothic",
   "metadata": {},
   "source": [
    "### Properties of a good feature\n",
    "\n",
    "* Should appear with a non-zero value more than a small handful of times\n",
    "* Clear, obvious meaning, e.g. age should probably be in years rather than seconds\n",
    "* Features shouldn't use magic values e.g. `watch_time=-1.0`. Better `watch_time=1.023` `watch_time_is_defined=1.0`\n",
    "* Feature definition shouldn't change over time.\n",
    "* Feature should not have extreme outliers\n",
    "* Binning trick create several boolean bins, each mapping to a new unique feature, e.g. house prices north-to-south no direct linear relationship, but within a given latitude, there is a strong correlation"
   ]
  },
  {
   "cell_type": "markdown",
   "id": "moving-bracket",
   "metadata": {},
   "source": [
    "### Know your data\n",
    "\n",
    "* Visualise - plot histograms, rank most to least common\n",
    "* Debug - duplicates examples? Missing values? Outliers? Training/Test/val data similar\n",
    "* Monitor - feature quantiles, number of examples over time?"
   ]
  }
 ],
 "metadata": {
  "kernelspec": {
   "display_name": "dev",
   "language": "python",
   "name": "dev"
  },
  "language_info": {
   "codemirror_mode": {
    "name": "ipython",
    "version": 3
   },
   "file_extension": ".py",
   "mimetype": "text/x-python",
   "name": "python",
   "nbconvert_exporter": "python",
   "pygments_lexer": "ipython3",
   "version": "3.8.5"
  }
 },
 "nbformat": 4,
 "nbformat_minor": 5
}
