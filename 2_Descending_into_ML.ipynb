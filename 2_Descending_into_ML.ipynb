{
 "cells": [
  {
   "cell_type": "markdown",
   "id": "still-square",
   "metadata": {},
   "source": [
    "https://developers.google.com/machine-learning/crash-course/descending-into-ml/video-lecture"
   ]
  },
  {
   "cell_type": "markdown",
   "id": "enormous-effectiveness",
   "metadata": {},
   "source": [
    "Linear relationship $y = w \\cdot x + b$  ($b$=bias)"
   ]
  },
  {
   "cell_type": "markdown",
   "id": "departmental-medicare",
   "metadata": {},
   "source": [
    "$L_2$ loss (squared error) = (observation - prediction)$^2$ = $(y -y')^2$"
   ]
  },
  {
   "cell_type": "markdown",
   "id": "protecting-force",
   "metadata": {},
   "source": [
    "$L_2$ = $\\sum_{(x, y)\\in D}(y - prediction(x))^2$,  $D$ is the 'Dataset'"
   ]
  },
  {
   "cell_type": "markdown",
   "id": "suburban-algeria",
   "metadata": {},
   "source": [
    "$MSE = \\frac{1}{||D||}L_2$ is the Mean Squared Error loss"
   ]
  },
  {
   "cell_type": "markdown",
   "id": "american-satellite",
   "metadata": {},
   "source": [
    " <img src=\"images/MCEDescendingIntoMLLeft.png\" align=\"left\">   <img src=\"images/MCEDescendingIntoMLRight.png\" align=\"right\">"
   ]
  },
  {
   "cell_type": "code",
   "execution_count": 7,
   "id": "declared-portsmouth",
   "metadata": {},
   "outputs": [
    {
     "name": "stdout",
     "output_type": "stream",
     "text": [
      "left=4, right=8, left-right=-4\n"
     ]
    }
   ],
   "source": [
    "left = 6*(0**2) + 4*(1**2)\n",
    "right = 2*(2**2) + 8*(0**2)\n",
    "print(f\"{left=}, {right=}, {left-right=}\")"
   ]
  },
  {
   "cell_type": "raw",
   "id": "grateful-comparison",
   "metadata": {},
   "source": [
    "Hence right has largest loss"
   ]
  },
  {
   "cell_type": "code",
   "execution_count": null,
   "id": "italian-difference",
   "metadata": {},
   "outputs": [],
   "source": []
  }
 ],
 "metadata": {
  "kernelspec": {
   "display_name": "dev",
   "language": "python",
   "name": "dev"
  },
  "language_info": {
   "codemirror_mode": {
    "name": "ipython",
    "version": 3
   },
   "file_extension": ".py",
   "mimetype": "text/x-python",
   "name": "python",
   "nbconvert_exporter": "python",
   "pygments_lexer": "ipython3",
   "version": "3.8.5"
  }
 },
 "nbformat": 4,
 "nbformat_minor": 5
}
