{
 "cells": [
  {
   "cell_type": "markdown",
   "metadata": {
    "id": "TL5y5fY9Jy_x"
   },
   "source": [
    "# Representation with a Feature Cross\n",
    "\n",
    "In this exercise, you'll experiment with different ways to represent features.\n",
    "\n",
    "https://colab.research.google.com/github/google/eng-edu/blob/main/ml/cc/exercises/representation_with_a_feature_cross.ipynb?utm_source=mlcc&utm_campaign=colab-external&utm_medium=referral&utm_content=representation_tf2-colab&hl=en"
   ]
  },
  {
   "cell_type": "markdown",
   "metadata": {
    "id": "RXWoPIezkzgI"
   },
   "source": [
    "## Learning Objectives:\n",
    "\n",
    "After doing this Colab, you'll know how to:\n",
    "\n",
    "  * Use [`tf.feature_column`](https://www.tensorflow.org/api_docs/python/tf/feature_column) methods to represent features in different ways.\n",
    "  * Represent features as [bins](https://developers.google.com/machine-learning/glossary/#bucketing). \n",
    "  * Cross bins to create a [feature cross](https://developers.google.com/machine-learning/glossary/#feature_cross). "
   ]
  },
  {
   "cell_type": "markdown",
   "metadata": {
    "id": "lH_g3Hsfkzzb"
   },
   "source": [
    "## The Dataset\n",
    "  \n",
    "Like several of the previous Colabs, this exercise uses the [California Housing Dataset](https://developers.google.com/machine-learning/crash-course/california-housing-data-description)."
   ]
  },
  {
   "cell_type": "code",
   "execution_count": 7,
   "metadata": {
    "cellView": "form",
    "id": "9n9_cTveKmse"
   },
   "outputs": [
    {
     "data": {
      "text/plain": [
       "'2.4.1'"
      ]
     },
     "execution_count": 7,
     "metadata": {},
     "output_type": "execute_result"
    }
   ],
   "source": [
    "import numpy as np\n",
    "import pandas as pd\n",
    "import logging\n",
    "import tensorflow as tf\n",
    "import tqdm.notebook as tqdm\n",
    "from tensorflow import feature_column\n",
    "from tensorflow.keras import layers\n",
    "\n",
    "from matplotlib import pyplot as plt\n",
    "\n",
    "# The following lines adjust the granularity of reporting.\n",
    "pd.options.display.max_rows = 10\n",
    "pd.options.display.float_format = \"{:.1f}\".format\n",
    "\n",
    "tf.keras.backend.set_floatx('float32')\n",
    "tf.get_logger().setLevel(logging.ERROR)\n",
    "tf.__version__"
   ]
  },
  {
   "cell_type": "markdown",
   "metadata": {
    "id": "X_TaJhU4KcuY"
   },
   "source": [
    "## Load, scale, and shuffle the examples\n",
    "\n",
    "The following code cell loads the separate .csv files and creates the following two pandas DataFrames:\n",
    "\n",
    "* `train_df`, which contains the training set\n",
    "* `test_df`, which contains the test set\n",
    "\n",
    "The code cell then scales the `median_house_value` to a more human-friendly range and then suffles the examples."
   ]
  },
  {
   "cell_type": "code",
   "execution_count": 8,
   "metadata": {
    "id": "JZlvdpyYKx7V"
   },
   "outputs": [],
   "source": [
    "# Load the dataset\n",
    "train_df = pd.read_csv(\"https://download.mlcc.google.com/mledu-datasets/california_housing_train.csv\")\n",
    "test_df = pd.read_csv(\"https://download.mlcc.google.com/mledu-datasets/california_housing_test.csv\")\n",
    "\n",
    "# Scale the labels\n",
    "scale_factor = 1000.0\n",
    "# Scale the training set's label.\n",
    "train_df[\"median_house_value\"] /= scale_factor \n",
    "\n",
    "# Scale the test set's label\n",
    "test_df[\"median_house_value\"] /= scale_factor\n",
    "\n",
    "# Shuffle the examples\n",
    "train_df = train_df.reindex(np.random.permutation(train_df.index))"
   ]
  },
  {
   "cell_type": "markdown",
   "metadata": {
    "id": "8kir8UTUXSV8"
   },
   "source": [
    "## Represent latitude and longitude as floating-point values\n",
    "\n",
    "Previous Colabs trained on only a single feature or a single synthetic feature. By contrast, this exercise trains on two features. Furthermore, this Colab introduces **feature columns**, which provide a sophisticated way to represent features.  \n",
    "\n",
    "You create feature columns as possible:\n",
    "\n",
    "  * Call a [`tf.feature_column`](https://www.tensorflow.org/api_docs/python/tf/feature_column) method to represent a single feature, single feature cross, or single synthetic feature in the desired way.  For example, to represent a certain feature as floating-point values, call [`tf.feature_column.numeric_column`](https://www.tensorflow.org/api_docs/python/tf/feature_column/numeric_column). To represent a certain feature as a series of buckets or bins, call [`tf.feature_column.bucketized_column`](https://www.tensorflow.org/api_docs/python/tf/feature_column/bucketized_column).\n",
    "  * Assemble the created representations into a Python list. \n",
    "\n",
    "A neighborhood's location is typically the most important feature in determining a house's value. The California Housing dataset provides two features, `latitude` and `longitude` that identify each neighborhood's location. \n",
    "\n",
    "The following code cell calls [`tf.feature_column.numeric_column`](https://www.tensorflow.org/api_docs/python/tf/feature_column/numeric_column) twice, first to represent `latitude` as floating-point value and a second time to represent `longitude` as floating-point values. \n",
    "\n",
    "This code cell specifies the features that you'll ultimately train the model on and how each of those features will be represented. The transformations (collected in `fp_feature_layer`) don't actually get applied until you pass a DataFrame to it, which will happen when we train the model. \n"
   ]
  },
  {
   "cell_type": "code",
   "execution_count": 9,
   "metadata": {
    "id": "3tmmZIDw4JEC"
   },
   "outputs": [],
   "source": [
    "# Create an empty list that will eventually hold all feature columns.\n",
    "feature_columns = []\n",
    "\n",
    "# Create a numerical feature column to represent latitude.\n",
    "latitude = tf.feature_column.numeric_column(\"latitude\")\n",
    "feature_columns.append(latitude)\n",
    "\n",
    "# Create a numerical feature column to represent longitude.\n",
    "longitude = tf.feature_column.numeric_column(\"longitude\")\n",
    "feature_columns.append(longitude)\n",
    "\n",
    "# Convert the list of feature columns into a layer that will ultimately become\n",
    "# part of the model. Understanding layers is not important right now.\n",
    "fp_feature_layer = layers.DenseFeatures(feature_columns)"
   ]
  },
  {
   "cell_type": "markdown",
   "metadata": {
    "id": "Q2x8sHKnAy3Q"
   },
   "source": [
    "When used, the layer processes the raw inputs, according to the transformations described by the feature columns, and packs the result into a numeric array.  (The model will train on this numeric array.) "
   ]
  },
  {
   "cell_type": "markdown",
   "metadata": {
    "id": "3014ezH3C7jT"
   },
   "source": [
    "## Define functions that create and train a model, and a plotting function\n",
    "\n",
    "The following code defines three functions:\n",
    "\n",
    "  * `create_model`, which tells TensorFlow to build a linear regression model and to use the `feature_layer_as_fp` as the representation of the model's features.\n",
    "  * `train_model`, which will ultimately train the model from training set examples.\n",
    "  * `plot_the_loss_curve`, which generates a loss curve."
   ]
  },
  {
   "cell_type": "code",
   "execution_count": 10,
   "metadata": {
    "cellView": "form",
    "id": "pedD5GhlDC-y"
   },
   "outputs": [],
   "source": [
    "def create_model(my_learning_rate, feature_layer):\n",
    "    \"\"\"Create and compile a simple linear regression model.\"\"\"\n",
    "    model = tf.keras.models.Sequential()\n",
    "\n",
    "    model.add(feature_layer)\n",
    "\n",
    "    # Add one linear layer to the model to yield a simple linear regressor.\n",
    "    model.add(tf.keras.layers.Dense(units=1, input_shape=(1,)))\n",
    "\n",
    "    model.compile(optimizer=tf.keras.optimizers.RMSprop(lr=my_learning_rate),\n",
    "                  loss=\"mean_squared_error\",\n",
    "                  metrics=[tf.keras.metrics.RootMeanSquaredError()])\n",
    "\n",
    "    return model           \n",
    "\n",
    "\n",
    "def train_model(model, dataset, epochs, batch_size, label_name, verbose=1):\n",
    "    \"\"\"Feed a dataset into the model in order to train it.\"\"\"\n",
    "\n",
    "    features = {name: np.array(value) for name, value in dataset.items()}\n",
    "    label = np.array(features.pop(label_name))\n",
    "    history = model.fit(x=features, y=label, batch_size=batch_size, epochs=epochs, shuffle=True, verbose=verbose)\n",
    "\n",
    "    epochs = history.epoch\n",
    "  \n",
    "    hist = pd.DataFrame(history.history)\n",
    "    rmse = hist[\"root_mean_squared_error\"]\n",
    "\n",
    "    return epochs, rmse   \n",
    "\n",
    "\n",
    "def plot_the_loss_curve(epochs, rmse):\n",
    "    \"\"\"Plot a curve of loss vs. epoch.\"\"\"\n",
    "    plt.figure()\n",
    "    plt.xlabel(\"Epoch\")\n",
    "    plt.ylabel(\"Root Mean Squared Error\")\n",
    "\n",
    "    plt.plot(epochs, rmse, label=\"Loss\")\n",
    "    plt.legend()\n",
    "    plt.ylim([rmse.min()*0.94, rmse.max()* 1.05])\n",
    "    plt.show()  "
   ]
  },
  {
   "cell_type": "markdown",
   "metadata": {
    "id": "D-IXYVfvM4gD"
   },
   "source": [
    "## Train the model with floating-point representations\n",
    "\n",
    "The following code cell calls the functions you just created to train, plot, and evaluate a model."
   ]
  },
  {
   "cell_type": "code",
   "execution_count": 11,
   "metadata": {
    "cellView": "both",
    "id": "nj3v5EKQFY8s"
   },
   "outputs": [
    {
     "name": "stdout",
     "output_type": "stream",
     "text": [
      "Epoch 1/30\n",
      "170/170 [==============================] - 0s 496us/step - loss: 32506.7611 - root_mean_squared_error: 175.3416\n",
      "Epoch 2/30\n",
      "170/170 [==============================] - 0s 667us/step - loss: 13775.2313 - root_mean_squared_error: 117.3563\n",
      "Epoch 3/30\n",
      "170/170 [==============================] - 0s 740us/step - loss: 13448.1706 - root_mean_squared_error: 115.9606\n",
      "Epoch 4/30\n",
      "170/170 [==============================] - 0s 729us/step - loss: 13441.9556 - root_mean_squared_error: 115.9357\n",
      "Epoch 5/30\n",
      "170/170 [==============================] - 0s 727us/step - loss: 13608.2061 - root_mean_squared_error: 116.6504\n",
      "Epoch 6/30\n",
      "170/170 [==============================] - 0s 715us/step - loss: 13496.5565 - root_mean_squared_error: 116.1710\n",
      "Epoch 7/30\n",
      "170/170 [==============================] - 0s 661us/step - loss: 13407.4014 - root_mean_squared_error: 115.7800\n",
      "Epoch 8/30\n",
      "170/170 [==============================] - 0s 753us/step - loss: 13442.2540 - root_mean_squared_error: 115.9375\n",
      "Epoch 9/30\n",
      "170/170 [==============================] - 0s 717us/step - loss: 13226.1488 - root_mean_squared_error: 115.0025\n",
      "Epoch 10/30\n",
      "170/170 [==============================] - 0s 647us/step - loss: 13520.9998 - root_mean_squared_error: 116.2738\n",
      "Epoch 11/30\n",
      "170/170 [==============================] - 0s 632us/step - loss: 13223.5518 - root_mean_squared_error: 114.9906\n",
      "Epoch 12/30\n",
      "170/170 [==============================] - 0s 679us/step - loss: 13234.4489 - root_mean_squared_error: 115.0314\n",
      "Epoch 13/30\n",
      "170/170 [==============================] - 0s 741us/step - loss: 13421.2858 - root_mean_squared_error: 115.8455\n",
      "Epoch 14/30\n",
      "170/170 [==============================] - 0s 647us/step - loss: 13361.2679 - root_mean_squared_error: 115.5817\n",
      "Epoch 15/30\n",
      "170/170 [==============================] - 0s 669us/step - loss: 13020.3230 - root_mean_squared_error: 114.0971\n",
      "Epoch 16/30\n",
      "170/170 [==============================] - 0s 728us/step - loss: 13211.0801 - root_mean_squared_error: 114.9372\n",
      "Epoch 17/30\n",
      "170/170 [==============================] - 0s 780us/step - loss: 13227.3247 - root_mean_squared_error: 114.9970\n",
      "Epoch 18/30\n",
      "170/170 [==============================] - 0s 1ms/step - loss: 12985.1496 - root_mean_squared_error: 113.9514\n",
      "Epoch 19/30\n",
      "170/170 [==============================] - 0s 856us/step - loss: 13180.4392 - root_mean_squared_error: 114.8014\n",
      "Epoch 20/30\n",
      "170/170 [==============================] - 0s 883us/step - loss: 13093.2445 - root_mean_squared_error: 114.4199\n",
      "Epoch 21/30\n",
      "170/170 [==============================] - 0s 1ms/step - loss: 13026.3013 - root_mean_squared_error: 114.1300\n",
      "Epoch 22/30\n",
      "170/170 [==============================] - 0s 1ms/step - loss: 12917.8902 - root_mean_squared_error: 113.6512\n",
      "Epoch 23/30\n",
      "170/170 [==============================] - 0s 1ms/step - loss: 12897.5738 - root_mean_squared_error: 113.5611\n",
      "Epoch 24/30\n",
      "170/170 [==============================] - 0s 812us/step - loss: 13036.5803 - root_mean_squared_error: 114.1728\n",
      "Epoch 25/30\n",
      "170/170 [==============================] - 0s 814us/step - loss: 13131.7834 - root_mean_squared_error: 114.5893\n",
      "Epoch 26/30\n",
      "170/170 [==============================] - 0s 888us/step - loss: 12726.2945 - root_mean_squared_error: 112.7993\n",
      "Epoch 27/30\n",
      "170/170 [==============================] - 0s 788us/step - loss: 12882.7222 - root_mean_squared_error: 113.4962\n",
      "Epoch 28/30\n",
      "170/170 [==============================] - 0s 670us/step - loss: 12920.2394 - root_mean_squared_error: 113.6604\n",
      "Epoch 29/30\n",
      "170/170 [==============================] - 0s 645us/step - loss: 12811.0764 - root_mean_squared_error: 113.1803\n",
      "Epoch 30/30\n",
      "170/170 [==============================] - 0s 689us/step - loss: 12859.4202 - root_mean_squared_error: 113.3901\n"
     ]
    },
    {
     "data": {
      "image/png": "[encoded data removed]",
      "text/plain": [
       "<Figure size 432x288 with 1 Axes>"
      ]
     },
     "metadata": {
      "needs_background": "light"
     },
     "output_type": "display_data"
    },
    {
     "name": "stdout",
     "output_type": "stream",
     "text": [
      "\n",
      ": Evaluate the new model against the test set:\n",
      "30/30 [==============================] - 0s 819us/step - loss: 12414.9775 - root_mean_squared_error: 111.4225\n"
     ]
    },
    {
     "data": {
      "text/plain": [
       "[12414.9775390625, 111.42251586914062]"
      ]
     },
     "execution_count": 11,
     "metadata": {},
     "output_type": "execute_result"
    }
   ],
   "source": [
    "# The following variables are the hyperparameters.\n",
    "learning_rate = 0.05\n",
    "epochs = 30\n",
    "batch_size = 100\n",
    "label_name = 'median_house_value'\n",
    "\n",
    "# Create and compile the model's topography.\n",
    "my_model = create_model(learning_rate, fp_feature_layer)\n",
    "\n",
    "# Train the model on the training set.\n",
    "epochs, rmse = train_model(my_model, train_df, epochs, batch_size, label_name)\n",
    "\n",
    "plot_the_loss_curve(epochs, rmse)\n",
    "\n",
    "print(\"\\n: Evaluate the new model against the test set:\")\n",
    "test_features = {name:np.array(value) for name, value in test_df.items()}\n",
    "test_label = np.array(test_features.pop(label_name))\n",
    "my_model.evaluate(x=test_features, y=test_label, batch_size=batch_size)"
   ]
  },
  {
   "cell_type": "markdown",
   "metadata": {
    "id": "dbyWNS6T2fIT"
   },
   "source": [
    "## Task 1: Why aren't floating-point values a good way to represent latitude and longitude?\n",
    "\n",
    "Are floating-point values a good way to represent `latitude` and `longitude`? "
   ]
  },
  {
   "cell_type": "markdown",
   "metadata": {},
   "source": [
    "No. The target variable (house price) does not really depend on latitude or longitude in a continuous way. Clearly they do effect the house price, but representing them as continuous variables is not a good description for this problem."
   ]
  },
  {
   "cell_type": "markdown",
   "metadata": {
    "id": "Na8TPoPYx-0k"
   },
   "source": [
    "## Represent latitude and longitude in buckets\n",
    "\n",
    "The following code cell represents latitude and longitude in buckets (bins). Each bin represents all the neighborhoods within a single degree. For example,\n",
    "neighborhoods at latitude 35.4 and 35.8 are in the same bucket, but neighborhoods in latitude 35.4 and 36.2 are in different buckets. \n",
    "\n",
    "The model will learn a separate weight for each bucket. For example, the model will learn one weight for all the neighborhoods in the \"35\" bin\", a different weight for neighborhoods in the \"36\" bin, and so on. This representation will create approximately 20 buckets:\n",
    " \n",
    "  * 10 buckets for `latitude`. \n",
    "  * 10 buckets for `longitude`. "
   ]
  },
  {
   "cell_type": "code",
   "execution_count": 12,
   "metadata": {
    "id": "WLTUFiaUyIpx"
   },
   "outputs": [],
   "source": [
    "resolution_in_degrees = 1.0 \n",
    "\n",
    "# Create a new empty list that will eventually hold the generated feature column.\n",
    "feature_columns = []\n",
    "\n",
    "# Create a bucket feature column for latitude.\n",
    "latitude_as_a_numeric_column = tf.feature_column.numeric_column(\"latitude\")\n",
    "latitude_boundaries = list(\n",
    "    np.arange(int(min(train_df['latitude'])), int(max(train_df['latitude'])), resolution_in_degrees))\n",
    "latitude = tf.feature_column.bucketized_column(latitude_as_a_numeric_column, latitude_boundaries)\n",
    "feature_columns.append(latitude)\n",
    "\n",
    "# Create a bucket feature column for longitude.\n",
    "longitude_as_a_numeric_column = tf.feature_column.numeric_column(\"longitude\")\n",
    "longitude_boundaries = list(\n",
    "    np.arange(int(min(train_df['longitude'])), int(max(train_df['longitude'])), resolution_in_degrees))\n",
    "longitude = tf.feature_column.bucketized_column(longitude_as_a_numeric_column, longitude_boundaries)\n",
    "feature_columns.append(longitude)\n",
    "\n",
    "# Convert the list of feature columns into a layer that will ultimately become\n",
    "# part of the model. Understanding layers is not important right now.\n",
    "buckets_feature_layer = layers.DenseFeatures(feature_columns)"
   ]
  },
  {
   "cell_type": "markdown",
   "metadata": {
    "id": "aZsFzoPQ4pFm"
   },
   "source": [
    "## Train the model with bucket representations\n",
    "\n",
    "Run the following code cell to train the model with bucket representations rather than floating-point representations:"
   ]
  },
  {
   "cell_type": "code",
   "execution_count": 13,
   "metadata": {
    "id": "UnDrghxBzLvD"
   },
   "outputs": [
    {
     "name": "stdout",
     "output_type": "stream",
     "text": [
      "Epoch 1/35\n",
      "170/170 [==============================] - 0s 664us/step - loss: 54562.0225 - root_mean_squared_error: 233.5567\n",
      "Epoch 2/35\n",
      "170/170 [==============================] - 0s 780us/step - loss: 45468.6377 - root_mean_squared_error: 213.2220\n",
      "Epoch 3/35\n",
      "170/170 [==============================] - 0s 672us/step - loss: 39961.4558 - root_mean_squared_error: 199.8852\n",
      "Epoch 4/35\n",
      "170/170 [==============================] - 0s 645us/step - loss: 34151.5499 - root_mean_squared_error: 184.7675\n",
      "Epoch 5/35\n",
      "170/170 [==============================] - 0s 589us/step - loss: 28821.6098 - root_mean_squared_error: 169.7302\n",
      "Epoch 6/35\n",
      "170/170 [==============================] - 0s 666us/step - loss: 23935.7088 - root_mean_squared_error: 154.6902\n",
      "Epoch 7/35\n",
      "170/170 [==============================] - 0s 749us/step - loss: 20615.7419 - root_mean_squared_error: 143.5285\n",
      "Epoch 8/35\n",
      "170/170 [==============================] - 0s 1ms/step - loss: 17282.3341 - root_mean_squared_error: 131.4436\n",
      "Epoch 9/35\n",
      "170/170 [==============================] - 0s 1ms/step - loss: 14701.6134 - root_mean_squared_error: 121.2371\n",
      "Epoch 10/35\n",
      "170/170 [==============================] - 0s 903us/step - loss: 13371.7770 - root_mean_squared_error: 115.6232\n",
      "Epoch 11/35\n",
      "170/170 [==============================] - 0s 835us/step - loss: 12045.8539 - root_mean_squared_error: 109.7462\n",
      "Epoch 12/35\n",
      "170/170 [==============================] - 0s 740us/step - loss: 11448.9464 - root_mean_squared_error: 106.9843\n",
      "Epoch 13/35\n",
      "170/170 [==============================] - 0s 1ms/step - loss: 11216.0260 - root_mean_squared_error: 105.8862\n",
      "Epoch 14/35\n",
      "170/170 [==============================] - 0s 835us/step - loss: 10627.7049 - root_mean_squared_error: 103.0856\n",
      "Epoch 15/35\n",
      "170/170 [==============================] - 0s 962us/step - loss: 10871.7633 - root_mean_squared_error: 104.2613\n",
      "Epoch 16/35\n",
      "170/170 [==============================] - 0s 987us/step - loss: 10682.1732 - root_mean_squared_error: 103.3504\n",
      "Epoch 17/35\n",
      "170/170 [==============================] - 0s 1ms/step - loss: 10546.6130 - root_mean_squared_error: 102.6947\n",
      "Epoch 18/35\n",
      "170/170 [==============================] - 0s 1ms/step - loss: 10454.7085 - root_mean_squared_error: 102.2435\n",
      "Epoch 19/35\n",
      "170/170 [==============================] - 0s 2ms/step - loss: 10342.8094 - root_mean_squared_error: 101.6967\n",
      "Epoch 20/35\n",
      "170/170 [==============================] - 0s 3ms/step - loss: 10398.2221 - root_mean_squared_error: 101.9631\n",
      "Epoch 21/35\n",
      "170/170 [==============================] - 0s 1ms/step - loss: 10397.1624 - root_mean_squared_error: 101.9611\n",
      "Epoch 22/35\n",
      "170/170 [==============================] - 0s 1ms/step - loss: 10344.6902 - root_mean_squared_error: 101.7019\n",
      "Epoch 23/35\n",
      "170/170 [==============================] - 0s 1ms/step - loss: 10440.2774 - root_mean_squared_error: 102.1748\n",
      "Epoch 24/35\n",
      "170/170 [==============================] - 0s 2ms/step - loss: 10402.5418 - root_mean_squared_error: 101.9889\n",
      "Epoch 25/35\n",
      "170/170 [==============================] - 0s 1ms/step - loss: 10677.1479 - root_mean_squared_error: 103.3249\n",
      "Epoch 26/35\n",
      "170/170 [==============================] - 0s 1ms/step - loss: 10450.2862 - root_mean_squared_error: 102.2238\n",
      "Epoch 27/35\n",
      "170/170 [==============================] - 0s 1ms/step - loss: 10318.4922 - root_mean_squared_error: 101.5766\n",
      "Epoch 28/35\n",
      "170/170 [==============================] - 0s 1ms/step - loss: 10302.6329 - root_mean_squared_error: 101.4938\n",
      "Epoch 29/35\n",
      "170/170 [==============================] - 0s 1ms/step - loss: 10439.8397 - root_mean_squared_error: 102.1661\n",
      "Epoch 30/35\n",
      "170/170 [==============================] - 0s 1ms/step - loss: 10358.0672 - root_mean_squared_error: 101.7679\n",
      "Epoch 31/35\n",
      "170/170 [==============================] - 0s 2ms/step - loss: 10472.1453 - root_mean_squared_error: 102.3283\n",
      "Epoch 32/35\n",
      "170/170 [==============================] - 0s 1ms/step - loss: 10371.5399 - root_mean_squared_error: 101.8388\n",
      "Epoch 33/35\n",
      "170/170 [==============================] - 0s 1ms/step - loss: 10365.5645 - root_mean_squared_error: 101.8099\n",
      "Epoch 34/35\n",
      "170/170 [==============================] - 0s 2ms/step - loss: 10219.6852 - root_mean_squared_error: 101.0860\n",
      "Epoch 35/35\n",
      "170/170 [==============================] - 0s 1ms/step - loss: 10424.8634 - root_mean_squared_error: 102.0963\n"
     ]
    },
    {
     "data": {
      "image/png": "[encoded data removed]",
      "text/plain": [
       "<Figure size 432x288 with 1 Axes>"
      ]
     },
     "metadata": {
      "needs_background": "light"
     },
     "output_type": "display_data"
    },
    {
     "name": "stdout",
     "output_type": "stream",
     "text": [
      "\n",
      ": Evaluate the new model against the test set:\n",
      "30/30 [==============================] - 0s 638us/step - loss: 10195.4473 - root_mean_squared_error: 100.9725\n"
     ]
    },
    {
     "data": {
      "text/plain": [
       "[10195.447265625, 100.97250366210938]"
      ]
     },
     "execution_count": 13,
     "metadata": {},
     "output_type": "execute_result"
    }
   ],
   "source": [
    "# The following variables are the hyperparameters.\n",
    "learning_rate = 0.04\n",
    "epochs = 35\n",
    "\n",
    "# Build the model, this time passing in the buckets_feature_layer.\n",
    "my_model = create_model(learning_rate, buckets_feature_layer)\n",
    "\n",
    "# Train the model on the training set.\n",
    "epochs, rmse = train_model(my_model, train_df, epochs, batch_size, label_name)\n",
    "\n",
    "plot_the_loss_curve(epochs, rmse)\n",
    "\n",
    "print(\"\\n: Evaluate the new model against the test set:\")\n",
    "my_model.evaluate(x=test_features, y=test_label, batch_size=batch_size)"
   ]
  },
  {
   "cell_type": "markdown",
   "metadata": {
    "id": "Wb-bIKsN5M48"
   },
   "source": [
    "## Task 2: Did buckets outperform floating-point representations?\n",
    "\n",
    "Compare the model's `root_mean_squared_error` values for the two representations (floating-point vs. buckets)?  Which model produced lower losses? "
   ]
  },
  {
   "cell_type": "raw",
   "metadata": {},
   "source": [
    "(test_loss, test_rmse) with fp: (12269.2333984375, 110.76657104492188)\n",
    "(test_loss, test_rmse) with bins: (10199.0732421875, 100.9904556274414)\n",
    "\n",
    "So with bins was better."
   ]
  },
  {
   "cell_type": "markdown",
   "metadata": {
    "id": "ab6-bhUvxbTL"
   },
   "source": [
    "## Task 3: What is a better way to represent location?\n",
    "\n",
    "Buckets are a big improvement over floating-point values. Can you identify an even better way to identify location with `latitude` and `longitude`?"
   ]
  },
  {
   "cell_type": "markdown",
   "metadata": {},
   "source": [
    "Yes: Feature cross. latitude and longitude indivdually are not that predictive, since there are many locations of the same latitude that have vastly different house prices. Since we are using only a linear model it can't do much with this."
   ]
  },
  {
   "cell_type": "markdown",
   "metadata": {
    "id": "T1ulCDiyGB6g"
   },
   "source": [
    "## Represent location as a feature cross\n",
    "\n",
    "The following code cell represents location as a feature cross. That is, the following code cell first creates buckets and then calls `tf.feature_column.crossed_column` to cross the buckets.\n",
    "\n"
   ]
  },
  {
   "cell_type": "code",
   "execution_count": 14,
   "metadata": {
    "cellView": "both",
    "id": "HunsuEzqn21s"
   },
   "outputs": [],
   "source": [
    "resolution_in_degrees = 1.0 \n",
    "\n",
    "# Create a new empty list that will eventually hold the generated feature column.\n",
    "feature_columns = []\n",
    "\n",
    "# Create a bucket feature column for latitude.\n",
    "latitude_as_a_numeric_column = tf.feature_column.numeric_column(\"latitude\")\n",
    "latitude_boundaries = list(np.arange(int(min(train_df['latitude'])), int(max(train_df['latitude'])), resolution_in_degrees))\n",
    "latitude = tf.feature_column.bucketized_column(latitude_as_a_numeric_column, latitude_boundaries)\n",
    "\n",
    "# Create a bucket feature column for longitude.\n",
    "longitude_as_a_numeric_column = tf.feature_column.numeric_column(\"longitude\")\n",
    "longitude_boundaries = list(np.arange(int(min(train_df['longitude'])), int(max(train_df['longitude'])), resolution_in_degrees))\n",
    "longitude = tf.feature_column.bucketized_column(longitude_as_a_numeric_column, longitude_boundaries)\n",
    "\n",
    "# Create a feature cross of latitude and longitude.\n",
    "latitude_x_longitude = tf.feature_column.crossed_column([latitude, longitude], hash_bucket_size=100)\n",
    "crossed_feature = tf.feature_column.indicator_column(latitude_x_longitude)\n",
    "feature_columns.append(crossed_feature)\n",
    "\n",
    "# Convert the list of feature columns into a layer that will later be fed into\n",
    "# the model. \n",
    "feature_cross_feature_layer = layers.DenseFeatures(feature_columns)"
   ]
  },
  {
   "cell_type": "code",
   "execution_count": 16,
   "metadata": {
    "id": "qn2PRDBEr5ni"
   },
   "outputs": [
    {
     "name": "stdout",
     "output_type": "stream",
     "text": [
      "Epoch 1/35\n",
      "170/170 [==============================] - 1s 1ms/step - loss: 55169.5360 - root_mean_squared_error: 234.8614\n",
      "Epoch 2/35\n",
      "170/170 [==============================] - 0s 1ms/step - loss: 51235.7064 - root_mean_squared_error: 226.3063\n",
      "Epoch 3/35\n",
      "170/170 [==============================] - 0s 1ms/step - loss: 45466.7741 - root_mean_squared_error: 213.2106\n",
      "Epoch 4/35\n",
      "170/170 [==============================] - 0s 1ms/step - loss: 40681.7182 - root_mean_squared_error: 201.6896\n",
      "Epoch 5/35\n",
      "170/170 [==============================] - 0s 1ms/step - loss: 36188.3409 - root_mean_squared_error: 190.2189\n",
      "Epoch 6/35\n",
      "170/170 [==============================] - 0s 1ms/step - loss: 32680.9088 - root_mean_squared_error: 180.7709\n",
      "Epoch 7/35\n",
      "170/170 [==============================] - 0s 1ms/step - loss: 28731.8682 - root_mean_squared_error: 169.4974\n",
      "Epoch 8/35\n",
      "170/170 [==============================] - 0s 1ms/step - loss: 26216.4203 - root_mean_squared_error: 161.8992\n",
      "Epoch 9/35\n",
      "170/170 [==============================] - 0s 1ms/step - loss: 23212.3438 - root_mean_squared_error: 152.3467\n",
      "Epoch 10/35\n",
      "170/170 [==============================] - 0s 1ms/step - loss: 20919.1462 - root_mean_squared_error: 144.6216\n",
      "Epoch 11/35\n",
      "170/170 [==============================] - 0s 1ms/step - loss: 18880.5408 - root_mean_squared_error: 137.3830\n",
      "Epoch 12/35\n",
      "170/170 [==============================] - 0s 1ms/step - loss: 16575.0506 - root_mean_squared_error: 128.7398\n",
      "Epoch 13/35\n",
      "170/170 [==============================] - 0s 2ms/step - loss: 15166.3069 - root_mean_squared_error: 123.1346\n",
      "Epoch 14/35\n",
      "170/170 [==============================] - 0s 2ms/step - loss: 13746.2436 - root_mean_squared_error: 117.2318A: 0s - loss: 13760.0940 - root_mean_squared_error: 117.290\n",
      "Epoch 15/35\n",
      "170/170 [==============================] - 0s 1ms/step - loss: 12703.6364 - root_mean_squared_error: 112.7025\n",
      "Epoch 16/35\n",
      "170/170 [==============================] - 0s 2ms/step - loss: 11615.3737 - root_mean_squared_error: 107.7684\n",
      "Epoch 17/35\n",
      "170/170 [==============================] - 0s 1ms/step - loss: 11244.6186 - root_mean_squared_error: 106.0360\n",
      "Epoch 18/35\n",
      "170/170 [==============================] - 0s 1ms/step - loss: 10619.0745 - root_mean_squared_error: 103.0437\n",
      "Epoch 19/35\n",
      "170/170 [==============================] - 0s 1ms/step - loss: 10055.1560 - root_mean_squared_error: 100.2501\n",
      "Epoch 20/35\n",
      "170/170 [==============================] - 0s 1ms/step - loss: 10467.9163 - root_mean_squared_error: 102.2995\n",
      "Epoch 21/35\n",
      "170/170 [==============================] - 0s 2ms/step - loss: 10182.3748 - root_mean_squared_error: 100.9035\n",
      "Epoch 22/35\n",
      "170/170 [==============================] - 0s 1ms/step - loss: 10078.6489 - root_mean_squared_error: 100.3767\n",
      "Epoch 23/35\n",
      "170/170 [==============================] - 0s 1ms/step - loss: 9851.9245 - root_mean_squared_error: 99.2544\n",
      "Epoch 24/35\n",
      "170/170 [==============================] - 0s 2ms/step - loss: 9855.2543 - root_mean_squared_error: 99.2715\n",
      "Epoch 25/35\n",
      "170/170 [==============================] - 0s 1ms/step - loss: 9832.5827 - root_mean_squared_error: 99.1578\n",
      "Epoch 26/35\n",
      "170/170 [==============================] - 0s 1ms/step - loss: 9640.7889 - root_mean_squared_error: 98.1793\n",
      "Epoch 27/35\n",
      "170/170 [==============================] - 0s 1ms/step - loss: 9815.9312 - root_mean_squared_error: 99.0707\n",
      "Epoch 28/35\n",
      "170/170 [==============================] - 0s 1ms/step - loss: 9736.4282 - root_mean_squared_error: 98.6625\n",
      "Epoch 29/35\n",
      "170/170 [==============================] - 0s 1ms/step - loss: 9556.2132 - root_mean_squared_error: 97.7479\n",
      "Epoch 30/35\n",
      "170/170 [==============================] - 0s 1ms/step - loss: 9684.0995 - root_mean_squared_error: 98.4049\n",
      "Epoch 31/35\n",
      "170/170 [==============================] - 0s 1ms/step - loss: 9747.9381 - root_mean_squared_error: 98.7286\n",
      "Epoch 32/35\n",
      "170/170 [==============================] - 0s 1ms/step - loss: 9561.6882 - root_mean_squared_error: 97.7805\n",
      "Epoch 33/35\n",
      "170/170 [==============================] - 0s 1ms/step - loss: 9712.5377 - root_mean_squared_error: 98.5399\n",
      "Epoch 34/35\n",
      "170/170 [==============================] - 0s 1ms/step - loss: 9505.0533 - root_mean_squared_error: 97.4896\n",
      "Epoch 35/35\n",
      "170/170 [==============================] - 0s 1ms/step - loss: 9505.7798 - root_mean_squared_error: 97.4917\n"
     ]
    },
    {
     "data": {
      "image/png": "[encoded data removed]",
      "text/plain": [
       "<Figure size 432x288 with 1 Axes>"
      ]
     },
     "metadata": {
      "needs_background": "light"
     },
     "output_type": "display_data"
    },
    {
     "name": "stdout",
     "output_type": "stream",
     "text": [
      "\n",
      ": Evaluate the new model against the test set:\n",
      "30/30 [==============================] - 0s 617us/step - loss: 9519.1162 - root_mean_squared_error: 97.5660\n"
     ]
    },
    {
     "data": {
      "text/plain": [
       "[9519.1162109375, 97.56595611572266]"
      ]
     },
     "execution_count": 16,
     "metadata": {},
     "output_type": "execute_result"
    }
   ],
   "source": [
    "# The following variables are the hyperparameters.\n",
    "learning_rate = 0.04\n",
    "epochs = 35\n",
    "\n",
    "# Build the model, this time passing in the feature_cross_feature_layer: \n",
    "my_model = create_model(learning_rate, feature_cross_feature_layer)\n",
    "\n",
    "# Train the model on the training set.\n",
    "epochs, rmse = train_model(my_model, train_df, epochs, batch_size, label_name)\n",
    "\n",
    "plot_the_loss_curve(epochs, rmse)\n",
    "\n",
    "print(\"\\n: Evaluate the new model against the test set:\")\n",
    "my_model.evaluate(x=test_features, y=test_label, batch_size=batch_size)"
   ]
  },
  {
   "cell_type": "markdown",
   "metadata": {
    "id": "bCT-l1GaWNQE"
   },
   "source": [
    "## Task 4: Did the feature cross outperform buckets?\n",
    "\n",
    "Compare the model's `root_mean_squared_error` values for the two representations (buckets vs. feature cross)?  Which model produced\n",
    "lower losses? "
   ]
  },
  {
   "cell_type": "markdown",
   "metadata": {
    "cellView": "form",
    "id": "HUzdWDcs5rCi"
   },
   "source": [
    "(test_loss, test_rmse) with bins: (10199.0732421875, 100.9904556274414) \\\n",
    "(test_loss, test_rmse) with feature cross: (9519.4443359375, 97.56764221191406)\n",
    "\n",
    "So with feature cross was better."
   ]
  },
  {
   "cell_type": "markdown",
   "metadata": {
    "id": "J9Iw3ljfXqSQ"
   },
   "source": [
    "## Task 5: Adjust the resolution of the feature cross\n",
    "\n",
    "Return to the code cell in the \"Represent location as a feature cross\" section. Notice that `resolution_in_degrees` is set to 1.0. Therefore, each cell represents an area of 1.0 degree of latitude by 1.0 degree of longitude, which corresponds to a cell of 110 km by 90 km.  This resolution defines a rather large neighborhood. \n",
    "\n",
    "Experiment with `resolution_in_degrees` to answer the following questions:\n",
    "\n",
    "  1. What value of `resolution_in_degrees` produces the best results (lowest loss value)?\n",
    "  2. Why does loss increase when the value of `resolution_in_degrees` drops below a certain value?\n",
    "\n",
    "Finally, answer the following question:\n",
    "\n",
    "  3. What feature (that does not exist in the California Housing Dataset) would\n",
    "     be a better proxy for location than latitude X longitude."
   ]
  },
  {
   "cell_type": "code",
   "execution_count": 18,
   "metadata": {},
   "outputs": [
    {
     "data": {
      "application/vnd.jupyter.widget-view+json": {
       "model_id": "5263a3ea997a40dc9fa375bdd6969242",
       "version_major": 2,
       "version_minor": 0
      },
      "text/plain": [
       "  0%|          | 0/4 [00:00<?, ?it/s]"
      ]
     },
     "metadata": {},
     "output_type": "display_data"
    },
    {
     "data": {
      "image/png": "[encoded data removed]",
      "text/plain": [
       "<Figure size 432x288 with 1 Axes>"
      ]
     },
     "metadata": {
      "needs_background": "light"
     },
     "output_type": "display_data"
    },
    {
     "name": "stdout",
     "output_type": "stream",
     "text": [
      "\n",
      ": Evaluate the new model against the test set:  0.1\n",
      "30/30 [==============================] - 0s 633us/step - loss: 10523.4219 - root_mean_squared_error: 102.5837\n"
     ]
    },
    {
     "data": {
      "image/png": "[encoded data removed]",
      "text/plain": [
       "<Figure size 432x288 with 1 Axes>"
      ]
     },
     "metadata": {
      "needs_background": "light"
     },
     "output_type": "display_data"
    },
    {
     "name": "stdout",
     "output_type": "stream",
     "text": [
      "\n",
      ": Evaluate the new model against the test set:  0.5\n",
      "30/30 [==============================] - 0s 721us/step - loss: 9010.9756 - root_mean_squared_error: 94.9262\n"
     ]
    },
    {
     "data": {
      "image/png": "[encoded data removed]",
      "text/plain": [
       "<Figure size 432x288 with 1 Axes>"
      ]
     },
     "metadata": {
      "needs_background": "light"
     },
     "output_type": "display_data"
    },
    {
     "name": "stdout",
     "output_type": "stream",
     "text": [
      "\n",
      ": Evaluate the new model against the test set:  2\n",
      "30/30 [==============================] - 0s 630us/step - loss: 10220.2930 - root_mean_squared_error: 101.0955\n"
     ]
    },
    {
     "data": {
      "image/png": "[encoded data removed]",
      "text/plain": [
       "<Figure size 432x288 with 1 Axes>"
      ]
     },
     "metadata": {
      "needs_background": "light"
     },
     "output_type": "display_data"
    },
    {
     "name": "stdout",
     "output_type": "stream",
     "text": [
      "\n",
      ": Evaluate the new model against the test set:  10\n",
      "30/30 [==============================] - 0s 2ms/step - loss: 12733.2578 - root_mean_squared_error: 112.8417\n"
     ]
    }
   ],
   "source": [
    "for resolution_in_degrees in tqdm.tqdm([0.1, 0.5, 2, 10]):\n",
    "    feature_columns = []\n",
    "\n",
    "    latitude_as_a_numeric_column = tf.feature_column.numeric_column(\"latitude\")\n",
    "    latitude_boundaries = list(np.arange(int(min(train_df['latitude'])), int(max(train_df['latitude'])), resolution_in_degrees))\n",
    "    latitude = tf.feature_column.bucketized_column(latitude_as_a_numeric_column, latitude_boundaries)\n",
    "\n",
    "    longitude_as_a_numeric_column = tf.feature_column.numeric_column(\"longitude\")\n",
    "    longitude_boundaries = list(np.arange(int(min(train_df['longitude'])), int(max(train_df['longitude'])), resolution_in_degrees))\n",
    "    longitude = tf.feature_column.bucketized_column(longitude_as_a_numeric_column, longitude_boundaries)\n",
    "\n",
    "    latitude_x_longitude = tf.feature_column.crossed_column([latitude, longitude], hash_bucket_size=100)\n",
    "    crossed_feature = tf.feature_column.indicator_column(latitude_x_longitude)\n",
    "    feature_columns.append(crossed_feature)\n",
    "\n",
    "    feature_cross_feature_layer = layers.DenseFeatures(feature_columns)\n",
    "\n",
    "    learning_rate = 0.04\n",
    "    epochs = 35\n",
    "\n",
    "    my_model = create_model(learning_rate, feature_cross_feature_layer)\n",
    "\n",
    "    epochs, rmse = train_model(my_model, train_df, epochs, batch_size, label_name, verbose=0)\n",
    "\n",
    "    plot_the_loss_curve(epochs, rmse)\n",
    "\n",
    "    print(\"\\n: Evaluate the new model against the test set: \", resolution_in_degrees)\n",
    "    my_model.evaluate(x=test_features, y=test_label, batch_size=batch_size)"
   ]
  },
  {
   "cell_type": "markdown",
   "metadata": {
    "cellView": "form",
    "id": "71WWwlhx4h0X"
   },
   "source": [
    "* 0.5 gave the best results here\n",
    "* < 0.1 is too fine grained for the model to learn anything\n",
    "\n",
    "* Post code or Area descriptor e.g. city + area, etc."
   ]
  },
  {
   "cell_type": "markdown",
   "metadata": {},
   "source": [
    "We could also compute this mapping ourselves by scraping e.g. https://public.opendatasoft.com/explore/dataset/us-zip-code-latitude-and-longitude/table/"
   ]
  },
  {
   "cell_type": "code",
   "execution_count": null,
   "metadata": {},
   "outputs": [],
   "source": []
  }
 ],
 "metadata": {
  "colab": {
   "collapsed_sections": [],
   "name": "Representation with a Feature Cross.ipynb",
   "private_outputs": true,
   "provenance": []
  },
  "kernelspec": {
   "display_name": "dev",
   "language": "python",
   "name": "dev"
  },
  "language_info": {
   "codemirror_mode": {
    "name": "ipython",
    "version": 3
   },
   "file_extension": ".py",
   "mimetype": "text/x-python",
   "name": "python",
   "nbconvert_exporter": "python",
   "pygments_lexer": "ipython3",
   "version": "3.8.5"
  }
 },
 "nbformat": 4,
 "nbformat_minor": 1
}
