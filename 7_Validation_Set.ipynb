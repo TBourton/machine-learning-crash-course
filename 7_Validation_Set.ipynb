{
 "cells": [
  {
   "cell_type": "markdown",
   "id": "supposed-complex",
   "metadata": {},
   "source": [
    "# Validation set"
   ]
  },
  {
   "cell_type": "markdown",
   "id": "green-mexican",
   "metadata": {},
   "source": [
    "We could end up fitting the peculiarities in the test set:"
   ]
  },
  {
   "cell_type": "markdown",
   "id": "optimum-silver",
   "metadata": {},
   "source": [
    "<img src=\"images/WorkflowWithTestSet.svg\">"
   ]
  },
  {
   "cell_type": "markdown",
   "id": "operating-maker",
   "metadata": {},
   "source": [
    "Basically, never tweak parameters on test set. If validation set metrics do not match those of the test set, then it's a good sign that we overfit to the validation set\n"
   ]
  }
 ],
 "metadata": {
  "kernelspec": {
   "display_name": "dev",
   "language": "python",
   "name": "dev"
  },
  "language_info": {
   "codemirror_mode": {
    "name": "ipython",
    "version": 3
   },
   "file_extension": ".py",
   "mimetype": "text/x-python",
   "name": "python",
   "nbconvert_exporter": "python",
   "pygments_lexer": "ipython3",
   "version": "3.8.5"
  }
 },
 "nbformat": 4,
 "nbformat_minor": 5
}
